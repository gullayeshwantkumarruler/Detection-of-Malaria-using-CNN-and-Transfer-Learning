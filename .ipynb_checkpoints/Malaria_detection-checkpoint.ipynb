{
 "cells": [
  {
   "cell_type": "markdown",
   "metadata": {
    "id": "pr_gabZOJSke"
   },
   "source": [
    "# <center>Malaria Detection using CNN and Transfer Learning"
   ]
  },
  {
   "cell_type": "code",
   "execution_count": 1,
   "metadata": {
    "colab": {
     "base_uri": "https://localhost:8080/"
    },
    "id": "3alWDTu3JbqU",
    "outputId": "b20dd5dc-449e-40e7-aa65-726b1f5c53c4"
   },
   "outputs": [
    {
     "name": "stdout",
     "output_type": "stream",
     "text": [
      "Archive:  /content/Dataset.zip\n",
      "   creating: Dataset/Test/\n",
      "   creating: Dataset/Test/Parasite/\n",
      " extracting: Dataset/Test/Parasite/C39P4thinF_original_IMG_20150622_105554_cell_10.png  \n",
      " extracting: Dataset/Test/Parasite/C39P4thinF_original_IMG_20150622_105554_cell_11.png  \n",
      "  inflating: Dataset/Test/Parasite/C39P4thinF_original_IMG_20150622_105554_cell_12.png  \n",
      " extracting: Dataset/Test/Parasite/C39P4thinF_original_IMG_20150622_105554_cell_13.png  \n",
      " extracting: Dataset/Test/Parasite/C39P4thinF_original_IMG_20150622_105554_cell_14.png  \n",
      "  inflating: Dataset/Test/Parasite/C39P4thinF_original_IMG_20150622_105554_cell_15.png  \n",
      " extracting: Dataset/Test/Parasite/C39P4thinF_original_IMG_20150622_105554_cell_16.png  \n",
      " extracting: Dataset/Test/Parasite/C39P4thinF_original_IMG_20150622_105554_cell_17.png  \n",
      " extracting: Dataset/Test/Parasite/C39P4thinF_original_IMG_20150622_105554_cell_18.png  \n",
      " extracting: Dataset/Test/Parasite/C39P4thinF_original_IMG_20150622_105554_cell_19.png  \n",
      " extracting: Dataset/Test/Parasite/C39P4thinF_original_IMG_20150622_105554_cell_20.png  \n",
      " extracting: Dataset/Test/Parasite/C39P4thinF_original_IMG_20150622_105554_cell_21.png  \n",
      " extracting: Dataset/Test/Parasite/C39P4thinF_original_IMG_20150622_105554_cell_22.png  \n",
      " extracting: Dataset/Test/Parasite/C39P4thinF_original_IMG_20150622_105554_cell_23.png  \n",
      " extracting: Dataset/Test/Parasite/C39P4thinF_original_IMG_20150622_105554_cell_24.png  \n",
      " extracting: Dataset/Test/Parasite/C39P4thinF_original_IMG_20150622_105554_cell_25.png  \n",
      " extracting: Dataset/Test/Parasite/C39P4thinF_original_IMG_20150622_105554_cell_26.png  \n",
      " extracting: Dataset/Test/Parasite/C39P4thinF_original_IMG_20150622_105554_cell_9.png  \n",
      " extracting: Dataset/Test/Parasite/C39P4thinF_original_IMG_20150622_105803_cell_100.png  \n",
      " extracting: Dataset/Test/Parasite/C39P4thinF_original_IMG_20150622_105803_cell_101.png  \n",
      " extracting: Dataset/Test/Parasite/C39P4thinF_original_IMG_20150622_105803_cell_102.png  \n",
      " extracting: Dataset/Test/Parasite/C39P4thinF_original_IMG_20150622_105803_cell_103.png  \n",
      " extracting: Dataset/Test/Parasite/C39P4thinF_original_IMG_20150622_105803_cell_104.png  \n",
      " extracting: Dataset/Test/Parasite/C39P4thinF_original_IMG_20150622_105803_cell_105.png  \n",
      " extracting: Dataset/Test/Parasite/C39P4thinF_original_IMG_20150622_105803_cell_106.png  \n",
      " extracting: Dataset/Test/Parasite/C39P4thinF_original_IMG_20150622_105803_cell_107.png  \n",
      " extracting: Dataset/Test/Parasite/C39P4thinF_original_IMG_20150622_105803_cell_108.png  \n",
      " extracting: Dataset/Test/Parasite/C39P4thinF_original_IMG_20150622_105803_cell_109.png  \n",
      " extracting: Dataset/Test/Parasite/C39P4thinF_original_IMG_20150622_105803_cell_110.png  \n",
      " extracting: Dataset/Test/Parasite/C39P4thinF_original_IMG_20150622_105803_cell_111.png  \n",
      " extracting: Dataset/Test/Parasite/C39P4thinF_original_IMG_20150622_105803_cell_112.png  \n",
      " extracting: Dataset/Test/Parasite/C39P4thinF_original_IMG_20150622_105803_cell_78.png  \n",
      " extracting: Dataset/Test/Parasite/C39P4thinF_original_IMG_20150622_105803_cell_79.png  \n",
      " extracting: Dataset/Test/Parasite/C39P4thinF_original_IMG_20150622_105803_cell_80.png  \n",
      " extracting: Dataset/Test/Parasite/C39P4thinF_original_IMG_20150622_105803_cell_81.png  \n",
      " extracting: Dataset/Test/Parasite/C39P4thinF_original_IMG_20150622_105803_cell_82.png  \n",
      " extracting: Dataset/Test/Parasite/C39P4thinF_original_IMG_20150622_105803_cell_83.png  \n",
      " extracting: Dataset/Test/Parasite/C39P4thinF_original_IMG_20150622_105803_cell_84.png  \n",
      " extracting: Dataset/Test/Parasite/C39P4thinF_original_IMG_20150622_105803_cell_85.png  \n",
      " extracting: Dataset/Test/Parasite/C39P4thinF_original_IMG_20150622_105803_cell_86.png  \n",
      " extracting: Dataset/Test/Parasite/C39P4thinF_original_IMG_20150622_105803_cell_87.png  \n",
      " extracting: Dataset/Test/Parasite/C39P4thinF_original_IMG_20150622_105803_cell_88.png  \n",
      " extracting: Dataset/Test/Parasite/C39P4thinF_original_IMG_20150622_105803_cell_89.png  \n",
      " extracting: Dataset/Test/Parasite/C39P4thinF_original_IMG_20150622_105803_cell_90.png  \n",
      " extracting: Dataset/Test/Parasite/C39P4thinF_original_IMG_20150622_105803_cell_91.png  \n",
      " extracting: Dataset/Test/Parasite/C39P4thinF_original_IMG_20150622_105803_cell_92.png  \n",
      " extracting: Dataset/Test/Parasite/C39P4thinF_original_IMG_20150622_105803_cell_93.png  \n",
      " extracting: Dataset/Test/Parasite/C39P4thinF_original_IMG_20150622_105803_cell_94.png  \n",
      " extracting: Dataset/Test/Parasite/C39P4thinF_original_IMG_20150622_105803_cell_95.png  \n",
      " extracting: Dataset/Test/Parasite/C39P4thinF_original_IMG_20150622_105803_cell_96.png  \n",
      " extracting: Dataset/Test/Parasite/C39P4thinF_original_IMG_20150622_105803_cell_97.png  \n",
      " extracting: Dataset/Test/Parasite/C39P4thinF_original_IMG_20150622_105803_cell_98.png  \n",
      " extracting: Dataset/Test/Parasite/C39P4thinF_original_IMG_20150622_105803_cell_99.png  \n",
      " extracting: Dataset/Test/Parasite/C39P4thinF_original_IMG_20150622_110115_cell_104.png  \n",
      " extracting: Dataset/Test/Parasite/C39P4thinF_original_IMG_20150622_110115_cell_105.png  \n",
      " extracting: Dataset/Test/Parasite/C39P4thinF_original_IMG_20150622_110115_cell_106.png  \n",
      " extracting: Dataset/Test/Parasite/C39P4thinF_original_IMG_20150622_110115_cell_107.png  \n",
      " extracting: Dataset/Test/Parasite/C39P4thinF_original_IMG_20150622_110115_cell_108.png  \n",
      " extracting: Dataset/Test/Parasite/C39P4thinF_original_IMG_20150622_110115_cell_109.png  \n",
      " extracting: Dataset/Test/Parasite/C39P4thinF_original_IMG_20150622_110115_cell_110.png  \n",
      " extracting: Dataset/Test/Parasite/C39P4thinF_original_IMG_20150622_110115_cell_111.png  \n",
      " extracting: Dataset/Test/Parasite/C39P4thinF_original_IMG_20150622_110115_cell_112.png  \n",
      " extracting: Dataset/Test/Parasite/C39P4thinF_original_IMG_20150622_110115_cell_113.png  \n",
      " extracting: Dataset/Test/Parasite/C39P4thinF_original_IMG_20150622_110115_cell_114.png  \n",
      " extracting: Dataset/Test/Parasite/C39P4thinF_original_IMG_20150622_110115_cell_115.png  \n",
      " extracting: Dataset/Test/Parasite/C39P4thinF_original_IMG_20150622_110115_cell_116.png  \n",
      " extracting: Dataset/Test/Parasite/C39P4thinF_original_IMG_20150622_110115_cell_117.png  \n",
      " extracting: Dataset/Test/Parasite/C39P4thinF_original_IMG_20150622_110115_cell_118.png  \n",
      " extracting: Dataset/Test/Parasite/C39P4thinF_original_IMG_20150622_110115_cell_119.png  \n",
      " extracting: Dataset/Test/Parasite/C39P4thinF_original_IMG_20150622_110115_cell_120.png  \n",
      " extracting: Dataset/Test/Parasite/C39P4thinF_original_IMG_20150622_110115_cell_121.png  \n",
      " extracting: Dataset/Test/Parasite/C39P4thinF_original_IMG_20150622_110115_cell_122.png  \n",
      " extracting: Dataset/Test/Parasite/C39P4thinF_original_IMG_20150622_110115_cell_123.png  \n",
      " extracting: Dataset/Test/Parasite/C39P4thinF_original_IMG_20150622_110115_cell_124.png  \n",
      " extracting: Dataset/Test/Parasite/C39P4thinF_original_IMG_20150622_110115_cell_125.png  \n",
      " extracting: Dataset/Test/Parasite/C39P4thinF_original_IMG_20150622_110115_cell_126.png  \n",
      " extracting: Dataset/Test/Parasite/C39P4thinF_original_IMG_20150622_110115_cell_127.png  \n",
      " extracting: Dataset/Test/Parasite/C39P4thinF_original_IMG_20150622_110115_cell_128.png  \n",
      " extracting: Dataset/Test/Parasite/C39P4thinF_original_IMG_20150622_110115_cell_129.png  \n",
      " extracting: Dataset/Test/Parasite/C39P4thinF_original_IMG_20150622_110115_cell_130.png  \n",
      " extracting: Dataset/Test/Parasite/C39P4thinF_original_IMG_20150622_110115_cell_131.png  \n",
      " extracting: Dataset/Test/Parasite/C39P4thinF_original_IMG_20150622_110115_cell_132.png  \n",
      " extracting: Dataset/Test/Parasite/C39P4thinF_original_IMG_20150622_110115_cell_133.png  \n",
      " extracting: Dataset/Test/Parasite/C39P4thinF_original_IMG_20150622_110115_cell_134.png  \n",
      " extracting: Dataset/Test/Parasite/C39P4thinF_original_IMG_20150622_110115_cell_135.png  \n",
      " extracting: Dataset/Test/Parasite/C39P4thinF_original_IMG_20150622_110115_cell_136.png  \n",
      " extracting: Dataset/Test/Parasite/C39P4thinF_original_IMG_20150622_110115_cell_137.png  \n",
      " extracting: Dataset/Test/Parasite/C39P4thinF_original_IMG_20150622_110115_cell_138.png  \n",
      " extracting: Dataset/Test/Parasite/C39P4thinF_original_IMG_20150622_110352_cell_78.png  \n",
      " extracting: Dataset/Test/Parasite/C39P4thinF_original_IMG_20150622_110352_cell_79.png  \n",
      " extracting: Dataset/Test/Parasite/C39P4thinF_original_IMG_20150622_110352_cell_80.png  \n",
      "   creating: Dataset/Test/Uninfected/\n",
      " extracting: Dataset/Test/Uninfected/2.png  \n",
      " extracting: Dataset/Test/Uninfected/C3thin_original_IMG_20150608_162922_cell_145.png  \n",
      " extracting: Dataset/Test/Uninfected/C3thin_original_IMG_20150608_162922_cell_191.png  \n",
      " extracting: Dataset/Test/Uninfected/C3thin_original_IMG_20150608_162922_cell_205.png  \n",
      " extracting: Dataset/Test/Uninfected/C3thin_original_IMG_20150608_162922_cell_211.png  \n",
      " extracting: Dataset/Test/Uninfected/C3thin_original_IMG_20150608_162922_cell_217.png  \n",
      " extracting: Dataset/Test/Uninfected/C3thin_original_IMG_20150608_163002_cell_13.png  \n",
      " extracting: Dataset/Test/Uninfected/C3thin_original_IMG_20150608_163002_cell_144.png  \n",
      " extracting: Dataset/Test/Uninfected/C3thin_original_IMG_20150608_163002_cell_146.png  \n",
      " extracting: Dataset/Test/Uninfected/C3thin_original_IMG_20150608_163002_cell_159.png  \n",
      " extracting: Dataset/Test/Uninfected/C3thin_original_IMG_20150608_163002_cell_195.png  \n",
      " extracting: Dataset/Test/Uninfected/C3thin_original_IMG_20150608_163002_cell_32.png  \n",
      " extracting: Dataset/Test/Uninfected/C3thin_original_IMG_20150608_163002_cell_34.png  \n",
      " extracting: Dataset/Test/Uninfected/C3thin_original_IMG_20150608_163002_cell_39.png  \n",
      " extracting: Dataset/Test/Uninfected/C3thin_original_IMG_20150608_163002_cell_63.png  \n",
      " extracting: Dataset/Test/Uninfected/C3thin_original_IMG_20150608_163002_cell_78.png  \n",
      " extracting: Dataset/Test/Uninfected/C3thin_original_IMG_20150608_163002_cell_81.png  \n",
      " extracting: Dataset/Test/Uninfected/C3thin_original_IMG_20150608_163002_cell_88.png  \n",
      " extracting: Dataset/Test/Uninfected/C3thin_original_IMG_20150608_163002_cell_93.png  \n",
      " extracting: Dataset/Test/Uninfected/C3thin_original_IMG_20150608_163002_cell_97.png  \n",
      " extracting: Dataset/Test/Uninfected/C3thin_original_IMG_20150608_163029_cell_1.png  \n",
      " extracting: Dataset/Test/Uninfected/C3thin_original_IMG_20150608_163029_cell_109.png  \n",
      " extracting: Dataset/Test/Uninfected/C3thin_original_IMG_20150608_163029_cell_121.png  \n",
      " extracting: Dataset/Test/Uninfected/C3thin_original_IMG_20150608_163029_cell_125.png  \n",
      " extracting: Dataset/Test/Uninfected/C3thin_original_IMG_20150608_163029_cell_156.png  \n",
      " extracting: Dataset/Test/Uninfected/C3thin_original_IMG_20150608_163029_cell_166.png  \n",
      " extracting: Dataset/Test/Uninfected/C3thin_original_IMG_20150608_163029_cell_186.png  \n",
      " extracting: Dataset/Test/Uninfected/C3thin_original_IMG_20150608_163029_cell_202.png  \n",
      " extracting: Dataset/Test/Uninfected/C3thin_original_IMG_20150608_163029_cell_220.png  \n",
      " extracting: Dataset/Test/Uninfected/C3thin_original_IMG_20150608_163029_cell_44.png  \n",
      " extracting: Dataset/Test/Uninfected/C3thin_original_IMG_20150608_163029_cell_52.png  \n",
      " extracting: Dataset/Test/Uninfected/C3thin_original_IMG_20150608_163029_cell_57.png  \n",
      " extracting: Dataset/Test/Uninfected/C3thin_original_IMG_20150608_163029_cell_80.png  \n",
      " extracting: Dataset/Test/Uninfected/C3thin_original_IMG_20150608_163029_cell_83.png  \n",
      " extracting: Dataset/Test/Uninfected/C3thin_original_IMG_20150608_163047_cell_103.png  \n",
      " extracting: Dataset/Test/Uninfected/C3thin_original_IMG_20150608_163047_cell_145.png  \n",
      " extracting: Dataset/Test/Uninfected/C3thin_original_IMG_20150608_163047_cell_147.png  \n",
      " extracting: Dataset/Test/Uninfected/C3thin_original_IMG_20150608_163047_cell_161.png  \n",
      " extracting: Dataset/Test/Uninfected/C3thin_original_IMG_20150608_163047_cell_168.png  \n",
      " extracting: Dataset/Test/Uninfected/C3thin_original_IMG_20150608_163047_cell_183.png  \n",
      " extracting: Dataset/Test/Uninfected/C3thin_original_IMG_20150608_163047_cell_22.png  \n",
      " extracting: Dataset/Test/Uninfected/C3thin_original_IMG_20150608_163047_cell_26.png  \n",
      " extracting: Dataset/Test/Uninfected/C3thin_original_IMG_20150608_163047_cell_36.png  \n",
      "   creating: Dataset/Train/\n",
      "   creating: Dataset/Train/Parasite/\n",
      " extracting: Dataset/Train/Parasite/C133P94ThinF_IMG_20151004_155721_cell_111.png  \n",
      " extracting: Dataset/Train/Parasite/C133P94ThinF_IMG_20151004_155721_cell_112.png  \n",
      " extracting: Dataset/Train/Parasite/C133P94ThinF_IMG_20151004_155721_cell_113.png  \n",
      " extracting: Dataset/Train/Parasite/C133P94ThinF_IMG_20151004_155721_cell_114.png  \n",
      " extracting: Dataset/Train/Parasite/C133P94ThinF_IMG_20151004_155721_cell_115.png  \n",
      " extracting: Dataset/Train/Parasite/C133P94ThinF_IMG_20151004_155721_cell_116.png  \n",
      " extracting: Dataset/Train/Parasite/C133P94ThinF_IMG_20151004_155721_cell_117.png  \n",
      " extracting: Dataset/Train/Parasite/C133P94ThinF_IMG_20151004_155721_cell_118.png  \n",
      " extracting: Dataset/Train/Parasite/C133P94ThinF_IMG_20151004_155721_cell_119.png  \n",
      " extracting: Dataset/Train/Parasite/C133P94ThinF_IMG_20151004_155721_cell_120.png  \n",
      " extracting: Dataset/Train/Parasite/C133P94ThinF_IMG_20151004_155721_cell_121.png  \n",
      "  inflating: Dataset/Train/Parasite/C133P94ThinF_IMG_20151004_155721_cell_122.png  \n",
      " extracting: Dataset/Train/Parasite/C133P94ThinF_IMG_20151004_155721_cell_123.png  \n",
      "  inflating: Dataset/Train/Parasite/C133P94ThinF_IMG_20151004_155721_cell_124.png  \n",
      " extracting: Dataset/Train/Parasite/C133P94ThinF_IMG_20151004_155912_cell_1.png  \n",
      " extracting: Dataset/Train/Parasite/C133P94ThinF_IMG_20151004_155912_cell_10.png  \n",
      " extracting: Dataset/Train/Parasite/C133P94ThinF_IMG_20151004_155912_cell_11.png  \n",
      " extracting: Dataset/Train/Parasite/C133P94ThinF_IMG_20151004_155912_cell_12.png  \n",
      " extracting: Dataset/Train/Parasite/C133P94ThinF_IMG_20151004_155912_cell_13.png  \n",
      " extracting: Dataset/Train/Parasite/C133P94ThinF_IMG_20151004_155912_cell_14.png  \n",
      " extracting: Dataset/Train/Parasite/C133P94ThinF_IMG_20151004_155912_cell_15.png  \n",
      " extracting: Dataset/Train/Parasite/C133P94ThinF_IMG_20151004_155912_cell_16.png  \n",
      " extracting: Dataset/Train/Parasite/C133P94ThinF_IMG_20151004_155912_cell_17.png  \n",
      " extracting: Dataset/Train/Parasite/C133P94ThinF_IMG_20151004_155912_cell_18.png  \n",
      " extracting: Dataset/Train/Parasite/C133P94ThinF_IMG_20151004_155912_cell_19.png  \n",
      " extracting: Dataset/Train/Parasite/C133P94ThinF_IMG_20151004_155912_cell_2.png  \n",
      " extracting: Dataset/Train/Parasite/C133P94ThinF_IMG_20151004_155912_cell_20.png  \n",
      " extracting: Dataset/Train/Parasite/C133P94ThinF_IMG_20151004_155912_cell_3.png  \n",
      " extracting: Dataset/Train/Parasite/C133P94ThinF_IMG_20151004_155912_cell_4.png  \n",
      " extracting: Dataset/Train/Parasite/C133P94ThinF_IMG_20151004_155912_cell_5.png  \n",
      " extracting: Dataset/Train/Parasite/C133P94ThinF_IMG_20151004_155912_cell_6.png  \n",
      " extracting: Dataset/Train/Parasite/C133P94ThinF_IMG_20151004_155912_cell_7.png  \n",
      " extracting: Dataset/Train/Parasite/C133P94ThinF_IMG_20151004_155912_cell_8.png  \n",
      " extracting: Dataset/Train/Parasite/C133P94ThinF_IMG_20151004_155912_cell_9.png  \n",
      " extracting: Dataset/Train/Parasite/C134P95ThinF_IMG_20151005_121048_cell_112.png  \n",
      " extracting: Dataset/Train/Parasite/C134P95ThinF_IMG_20151005_121048_cell_113.png  \n",
      " extracting: Dataset/Train/Parasite/C134P95ThinF_IMG_20151005_121343_cell_122.png  \n",
      " extracting: Dataset/Train/Parasite/C134P95ThinF_IMG_20151005_121343_cell_123.png  \n",
      " extracting: Dataset/Train/Parasite/C134P95ThinF_IMG_20151005_121343_cell_124.png  \n",
      " extracting: Dataset/Train/Parasite/C134P95ThinF_IMG_20151005_121425_cell_127.png  \n",
      " extracting: Dataset/Train/Parasite/C134P95ThinF_IMG_20151005_121554_cell_121.png  \n",
      " extracting: Dataset/Train/Parasite/C134P95ThinF_IMG_20151005_121554_cell_122.png  \n",
      " extracting: Dataset/Train/Parasite/C134P95ThinF_IMG_20151005_121656_cell_104.png  \n",
      " extracting: Dataset/Train/Parasite/C134P95ThinF_IMG_20151005_121656_cell_105.png  \n",
      " extracting: Dataset/Train/Parasite/C134P95ThinF_IMG_20151005_121834_cell_120.png  \n",
      "  inflating: Dataset/Train/Parasite/C134P95ThinF_IMG_20151005_121834_cell_121.png  \n",
      " extracting: Dataset/Train/Parasite/C134P95ThinF_IMG_20151005_121834_cell_122.png  \n",
      " extracting: Dataset/Train/Parasite/C134P95ThinF_IMG_20151005_121834_cell_123.png  \n",
      " extracting: Dataset/Train/Parasite/C134P95ThinF_IMG_20151005_121952_cell_120.png  \n",
      " extracting: Dataset/Train/Parasite/C134P95ThinF_IMG_20151005_121952_cell_121.png  \n",
      " extracting: Dataset/Train/Parasite/C134P95ThinF_IMG_20151005_121952_cell_122.png  \n",
      " extracting: Dataset/Train/Parasite/C134P95ThinF_IMG_20151005_121952_cell_123.png  \n",
      " extracting: Dataset/Train/Parasite/C134P95ThinF_IMG_20151005_122331_cell_102.png  \n",
      " extracting: Dataset/Train/Parasite/C134P95ThinF_IMG_20151005_122331_cell_103.png  \n",
      " extracting: Dataset/Train/Parasite/C134P95ThinF_IMG_20151005_122449_cell_133.png  \n",
      " extracting: Dataset/Train/Parasite/C134P95ThinF_IMG_20151005_122449_cell_134.png  \n",
      " extracting: Dataset/Train/Parasite/C134P95ThinF_IMG_20151005_122552_cell_120.png  \n",
      " extracting: Dataset/Train/Parasite/C134P95ThinF_IMG_20151005_122552_cell_121.png  \n",
      " extracting: Dataset/Train/Parasite/C134P95ThinF_IMG_20151005_122552_cell_122.png  \n",
      " extracting: Dataset/Train/Parasite/C134P95ThinF_IMG_20151005_122552_cell_123.png  \n",
      " extracting: Dataset/Train/Parasite/C134P95ThinF_IMG_20151005_122552_cell_124.png  \n",
      " extracting: Dataset/Train/Parasite/C189P150ThinF_IMG_20151203_142113_cell_86.png  \n",
      " extracting: Dataset/Train/Parasite/C189P150ThinF_IMG_20151203_142113_cell_87.png  \n",
      " extracting: Dataset/Train/Parasite/C189P150ThinF_IMG_20151203_142113_cell_88.png  \n",
      " extracting: Dataset/Train/Parasite/C189P150ThinF_IMG_20151203_142113_cell_89.png  \n",
      " extracting: Dataset/Train/Parasite/C189P150ThinF_IMG_20151203_142113_cell_90.png  \n",
      " extracting: Dataset/Train/Parasite/C189P150ThinF_IMG_20151203_142113_cell_91.png  \n",
      " extracting: Dataset/Train/Parasite/C189P150ThinF_IMG_20151203_142113_cell_92.png  \n",
      " extracting: Dataset/Train/Parasite/C189P150ThinF_IMG_20151203_142224_cell_79.png  \n",
      " extracting: Dataset/Train/Parasite/C189P150ThinF_IMG_20151203_142224_cell_80.png  \n",
      " extracting: Dataset/Train/Parasite/C189P150ThinF_IMG_20151203_142224_cell_81.png  \n",
      " extracting: Dataset/Train/Parasite/C189P150ThinF_IMG_20151203_142224_cell_82.png  \n",
      " extracting: Dataset/Train/Parasite/C189P150ThinF_IMG_20151203_142224_cell_83.png  \n",
      " extracting: Dataset/Train/Parasite/C189P150ThinF_IMG_20151203_142224_cell_84.png  \n",
      " extracting: Dataset/Train/Parasite/C189P150ThinF_IMG_20151203_142224_cell_85.png  \n",
      " extracting: Dataset/Train/Parasite/C189P150ThinF_IMG_20151203_142224_cell_86.png  \n",
      " extracting: Dataset/Train/Parasite/C189P150ThinF_IMG_20151203_142224_cell_87.png  \n",
      " extracting: Dataset/Train/Parasite/C189P150ThinF_IMG_20151203_142224_cell_88.png  \n",
      " extracting: Dataset/Train/Parasite/C189P150ThinF_IMG_20151203_142224_cell_89.png  \n",
      " extracting: Dataset/Train/Parasite/C189P150ThinF_IMG_20151203_142224_cell_90.png  \n",
      " extracting: Dataset/Train/Parasite/C189P150ThinF_IMG_20151203_142224_cell_91.png  \n",
      " extracting: Dataset/Train/Parasite/C189P150ThinF_IMG_20151203_142224_cell_92.png  \n",
      " extracting: Dataset/Train/Parasite/C189P150ThinF_IMG_20151203_142224_cell_93.png  \n",
      " extracting: Dataset/Train/Parasite/C189P150ThinF_IMG_20151203_142224_cell_94.png  \n",
      " extracting: Dataset/Train/Parasite/C189P150ThinF_IMG_20151203_142224_cell_95.png  \n",
      " extracting: Dataset/Train/Parasite/C189P150ThinF_IMG_20151203_142224_cell_96.png  \n",
      " extracting: Dataset/Train/Parasite/C189P150ThinF_IMG_20151203_142224_cell_97.png  \n",
      " extracting: Dataset/Train/Parasite/C189P150ThinF_IMG_20151203_142224_cell_98.png  \n",
      "  inflating: Dataset/Train/Parasite/C33P1thinF_IMG_20150619_114756a_cell_179.png  \n",
      " extracting: Dataset/Train/Parasite/C33P1thinF_IMG_20150619_114756a_cell_180.png  \n",
      "  inflating: Dataset/Train/Parasite/C33P1thinF_IMG_20150619_114756a_cell_181.png  \n",
      "  inflating: Dataset/Train/Parasite/C33P1thinF_IMG_20150619_114756a_cell_182.png  \n",
      " extracting: Dataset/Train/Parasite/C33P1thinF_IMG_20150619_115740a_cell_161.png  \n",
      " extracting: Dataset/Train/Parasite/C33P1thinF_IMG_20150619_115740a_cell_162.png  \n",
      " extracting: Dataset/Train/Parasite/C33P1thinF_IMG_20150619_115740a_cell_163.png  \n",
      " extracting: Dataset/Train/Parasite/C33P1thinF_IMG_20150619_115808a_cell_205.png  \n",
      "  inflating: Dataset/Train/Parasite/C33P1thinF_IMG_20150619_115808a_cell_206.png  \n",
      " extracting: Dataset/Train/Parasite/C33P1thinF_IMG_20150619_120645a_cell_215.png  \n",
      " extracting: Dataset/Train/Parasite/C33P1thinF_IMG_20150619_120645a_cell_216.png  \n",
      " extracting: Dataset/Train/Parasite/C33P1thinF_IMG_20150619_120645a_cell_217.png  \n",
      " extracting: Dataset/Train/Parasite/C33P1thinF_IMG_20150619_120742a_cell_210.png  \n",
      " extracting: Dataset/Train/Parasite/C33P1thinF_IMG_20150619_120804a_cell_224.png  \n",
      " extracting: Dataset/Train/Parasite/C33P1thinF_IMG_20150619_120838a_cell_222.png  \n",
      " extracting: Dataset/Train/Parasite/C33P1thinF_IMG_20150619_121102a_cell_193.png  \n",
      " extracting: Dataset/Train/Parasite/C33P1thinF_IMG_20150619_121229a_cell_177.png  \n",
      " extracting: Dataset/Train/Parasite/C33P1thinF_IMG_20150619_121229a_cell_178.png  \n",
      " extracting: Dataset/Train/Parasite/C33P1thinF_IMG_20150619_121229a_cell_179.png  \n",
      " extracting: Dataset/Train/Parasite/C33P1thinF_IMG_20150619_121300a_cell_156.png  \n",
      " extracting: Dataset/Train/Parasite/C33P1thinF_IMG_20150619_121411a_cell_189.png  \n",
      " extracting: Dataset/Train/Parasite/C33P1thinF_IMG_20150619_121411a_cell_190.png  \n",
      " extracting: Dataset/Train/Parasite/C33P1thinF_IMG_20150619_121435a_cell_173.png  \n",
      " extracting: Dataset/Train/Parasite/C33P1thinF_IMG_20150619_121503a_cell_158.png  \n",
      " extracting: Dataset/Train/Parasite/C33P1thinF_IMG_20150619_121503a_cell_159.png  \n",
      "  inflating: Dataset/Train/Parasite/C37BP2_thinF_IMG_20150620_131423a_cell_92.png  \n",
      "  inflating: Dataset/Train/Parasite/C37BP2_thinF_IMG_20150620_131423a_cell_93.png  \n",
      "  inflating: Dataset/Train/Parasite/C37BP2_thinF_IMG_20150620_131423a_cell_94.png  \n",
      "  inflating: Dataset/Train/Parasite/C37BP2_thinF_IMG_20150620_132440a_cell_108.png  \n",
      " extracting: Dataset/Train/Parasite/C37BP2_thinF_IMG_20150620_132847a_cell_76.png  \n",
      " extracting: Dataset/Train/Parasite/C37BP2_thinF_IMG_20150620_132847a_cell_77.png  \n",
      "  inflating: Dataset/Train/Parasite/C37BP2_thinF_IMG_20150620_133001a_cell_76.png  \n",
      " extracting: Dataset/Train/Parasite/C37BP2_thinF_IMG_20150620_133001a_cell_77.png  \n",
      "  inflating: Dataset/Train/Parasite/C37BP2_thinF_IMG_20150620_133111a_cell_86.png  \n",
      "  inflating: Dataset/Train/Parasite/C37BP2_thinF_IMG_20150620_133111a_cell_87.png  \n",
      "  inflating: Dataset/Train/Parasite/C37BP2_thinF_IMG_20150620_133111a_cell_88.png  \n",
      "  inflating: Dataset/Train/Parasite/C37BP2_thinF_IMG_20150620_133205a_cell_87.png  \n",
      "  inflating: Dataset/Train/Parasite/C37BP2_thinF_IMG_20150620_133205a_cell_88.png  \n",
      " extracting: Dataset/Train/Parasite/C37BP2_thinF_IMG_20150620_133238a_cell_97.png  \n",
      "  inflating: Dataset/Train/Parasite/C38P3thinF_original_IMG_20150621_112043_cell_202.png  \n",
      " extracting: Dataset/Train/Parasite/C38P3thinF_original_IMG_20150621_112043_cell_203.png  \n",
      " extracting: Dataset/Train/Parasite/C38P3thinF_original_IMG_20150621_112116_cell_204.png  \n",
      " extracting: Dataset/Train/Parasite/C38P3thinF_original_IMG_20150621_112116_cell_205.png  \n",
      "  inflating: Dataset/Train/Parasite/C38P3thinF_original_IMG_20150621_112138_cell_183.png  \n",
      " extracting: Dataset/Train/Parasite/C38P3thinF_original_IMG_20150621_112246_cell_236.png  \n",
      " extracting: Dataset/Train/Parasite/C39P4thinF_original_IMG_20150622_105102_cell_100.png  \n",
      "  inflating: Dataset/Train/Parasite/C39P4thinF_original_IMG_20150622_105102_cell_101.png  \n",
      " extracting: Dataset/Train/Parasite/C39P4thinF_original_IMG_20150622_105102_cell_102.png  \n",
      " extracting: Dataset/Train/Parasite/C39P4thinF_original_IMG_20150622_105102_cell_103.png  \n",
      " extracting: Dataset/Train/Parasite/C39P4thinF_original_IMG_20150622_105102_cell_104.png  \n",
      " extracting: Dataset/Train/Parasite/C39P4thinF_original_IMG_20150622_105102_cell_105.png  \n",
      " extracting: Dataset/Train/Parasite/C39P4thinF_original_IMG_20150622_105102_cell_106.png  \n",
      " extracting: Dataset/Train/Parasite/C39P4thinF_original_IMG_20150622_105102_cell_107.png  \n",
      " extracting: Dataset/Train/Parasite/C39P4thinF_original_IMG_20150622_105102_cell_79.png  \n",
      " extracting: Dataset/Train/Parasite/C39P4thinF_original_IMG_20150622_105102_cell_80.png  \n",
      " extracting: Dataset/Train/Parasite/C39P4thinF_original_IMG_20150622_105102_cell_81.png  \n",
      " extracting: Dataset/Train/Parasite/C39P4thinF_original_IMG_20150622_105102_cell_82.png  \n",
      " extracting: Dataset/Train/Parasite/C39P4thinF_original_IMG_20150622_105102_cell_83.png  \n",
      " extracting: Dataset/Train/Parasite/C39P4thinF_original_IMG_20150622_105102_cell_84.png  \n",
      " extracting: Dataset/Train/Parasite/C39P4thinF_original_IMG_20150622_105102_cell_85.png  \n",
      " extracting: Dataset/Train/Parasite/C39P4thinF_original_IMG_20150622_105102_cell_86.png  \n",
      " extracting: Dataset/Train/Parasite/C39P4thinF_original_IMG_20150622_105102_cell_87.png  \n",
      " extracting: Dataset/Train/Parasite/C39P4thinF_original_IMG_20150622_105102_cell_88.png  \n",
      " extracting: Dataset/Train/Parasite/C39P4thinF_original_IMG_20150622_105102_cell_89.png  \n",
      " extracting: Dataset/Train/Parasite/C39P4thinF_original_IMG_20150622_105102_cell_90.png  \n",
      " extracting: Dataset/Train/Parasite/C39P4thinF_original_IMG_20150622_105102_cell_91.png  \n",
      " extracting: Dataset/Train/Parasite/C39P4thinF_original_IMG_20150622_105102_cell_92.png  \n",
      " extracting: Dataset/Train/Parasite/C39P4thinF_original_IMG_20150622_105102_cell_93.png  \n",
      " extracting: Dataset/Train/Parasite/C39P4thinF_original_IMG_20150622_105102_cell_94.png  \n",
      " extracting: Dataset/Train/Parasite/C39P4thinF_original_IMG_20150622_105102_cell_95.png  \n",
      " extracting: Dataset/Train/Parasite/C39P4thinF_original_IMG_20150622_105102_cell_96.png  \n",
      " extracting: Dataset/Train/Parasite/C39P4thinF_original_IMG_20150622_105102_cell_97.png  \n",
      " extracting: Dataset/Train/Parasite/C39P4thinF_original_IMG_20150622_105102_cell_98.png  \n",
      " extracting: Dataset/Train/Parasite/C39P4thinF_original_IMG_20150622_105102_cell_99.png  \n",
      " extracting: Dataset/Train/Parasite/C39P4thinF_original_IMG_20150622_105253_cell_100.png  \n",
      " extracting: Dataset/Train/Parasite/C39P4thinF_original_IMG_20150622_105253_cell_101.png  \n",
      " extracting: Dataset/Train/Parasite/C39P4thinF_original_IMG_20150622_105253_cell_102.png  \n",
      " extracting: Dataset/Train/Parasite/C39P4thinF_original_IMG_20150622_105253_cell_103.png  \n",
      " extracting: Dataset/Train/Parasite/C39P4thinF_original_IMG_20150622_105253_cell_104.png  \n",
      " extracting: Dataset/Train/Parasite/C39P4thinF_original_IMG_20150622_105253_cell_105.png  \n",
      " extracting: Dataset/Train/Parasite/C39P4thinF_original_IMG_20150622_105253_cell_106.png  \n",
      " extracting: Dataset/Train/Parasite/C39P4thinF_original_IMG_20150622_105253_cell_107.png  \n",
      " extracting: Dataset/Train/Parasite/C39P4thinF_original_IMG_20150622_105253_cell_108.png  \n",
      " extracting: Dataset/Train/Parasite/C39P4thinF_original_IMG_20150622_105253_cell_109.png  \n",
      " extracting: Dataset/Train/Parasite/C39P4thinF_original_IMG_20150622_105253_cell_110.png  \n",
      " extracting: Dataset/Train/Parasite/C39P4thinF_original_IMG_20150622_105253_cell_111.png  \n",
      "  inflating: Dataset/Train/Parasite/C39P4thinF_original_IMG_20150622_105253_cell_90.png  \n",
      " extracting: Dataset/Train/Parasite/C39P4thinF_original_IMG_20150622_105253_cell_91.png  \n",
      " extracting: Dataset/Train/Parasite/C39P4thinF_original_IMG_20150622_105253_cell_92.png  \n",
      " extracting: Dataset/Train/Parasite/C39P4thinF_original_IMG_20150622_105253_cell_93.png  \n",
      " extracting: Dataset/Train/Parasite/C39P4thinF_original_IMG_20150622_105253_cell_94.png  \n",
      " extracting: Dataset/Train/Parasite/C39P4thinF_original_IMG_20150622_105253_cell_95.png  \n",
      " extracting: Dataset/Train/Parasite/C39P4thinF_original_IMG_20150622_105253_cell_96.png  \n",
      " extracting: Dataset/Train/Parasite/C39P4thinF_original_IMG_20150622_105253_cell_97.png  \n",
      " extracting: Dataset/Train/Parasite/C39P4thinF_original_IMG_20150622_105253_cell_98.png  \n",
      " extracting: Dataset/Train/Parasite/C39P4thinF_original_IMG_20150622_105253_cell_99.png  \n",
      " extracting: Dataset/Train/Parasite/C39P4thinF_original_IMG_20150622_105335_cell_1.png  \n",
      " extracting: Dataset/Train/Parasite/C39P4thinF_original_IMG_20150622_105335_cell_10.png  \n",
      " extracting: Dataset/Train/Parasite/C39P4thinF_original_IMG_20150622_105335_cell_11.png  \n",
      " extracting: Dataset/Train/Parasite/C39P4thinF_original_IMG_20150622_105335_cell_12.png  \n",
      " extracting: Dataset/Train/Parasite/C39P4thinF_original_IMG_20150622_105335_cell_13.png  \n",
      " extracting: Dataset/Train/Parasite/C39P4thinF_original_IMG_20150622_105335_cell_14.png  \n",
      " extracting: Dataset/Train/Parasite/C39P4thinF_original_IMG_20150622_105335_cell_15.png  \n",
      " extracting: Dataset/Train/Parasite/C39P4thinF_original_IMG_20150622_105335_cell_16.png  \n",
      " extracting: Dataset/Train/Parasite/C39P4thinF_original_IMG_20150622_105335_cell_17.png  \n",
      " extracting: Dataset/Train/Parasite/C39P4thinF_original_IMG_20150622_105335_cell_18.png  \n",
      " extracting: Dataset/Train/Parasite/C39P4thinF_original_IMG_20150622_105335_cell_19.png  \n",
      " extracting: Dataset/Train/Parasite/C39P4thinF_original_IMG_20150622_105335_cell_2.png  \n",
      " extracting: Dataset/Train/Parasite/C39P4thinF_original_IMG_20150622_105335_cell_20.png  \n",
      " extracting: Dataset/Train/Parasite/C39P4thinF_original_IMG_20150622_105335_cell_21.png  \n",
      " extracting: Dataset/Train/Parasite/C39P4thinF_original_IMG_20150622_105335_cell_22.png  \n",
      " extracting: Dataset/Train/Parasite/C39P4thinF_original_IMG_20150622_105335_cell_23.png  \n",
      " extracting: Dataset/Train/Parasite/C39P4thinF_original_IMG_20150622_105335_cell_24.png  \n",
      " extracting: Dataset/Train/Parasite/C39P4thinF_original_IMG_20150622_105335_cell_25.png  \n",
      "  inflating: Dataset/Train/Parasite/C39P4thinF_original_IMG_20150622_105335_cell_26.png  \n",
      " extracting: Dataset/Train/Parasite/C39P4thinF_original_IMG_20150622_105335_cell_27.png  \n",
      " extracting: Dataset/Train/Parasite/C39P4thinF_original_IMG_20150622_105335_cell_28.png  \n",
      "  inflating: Dataset/Train/Parasite/C39P4thinF_original_IMG_20150622_105335_cell_29.png  \n",
      " extracting: Dataset/Train/Parasite/C39P4thinF_original_IMG_20150622_105335_cell_3.png  \n",
      " extracting: Dataset/Train/Parasite/C39P4thinF_original_IMG_20150622_105335_cell_30.png  \n",
      " extracting: Dataset/Train/Parasite/C39P4thinF_original_IMG_20150622_105335_cell_31.png  \n",
      " extracting: Dataset/Train/Parasite/C39P4thinF_original_IMG_20150622_105335_cell_32.png  \n",
      " extracting: Dataset/Train/Parasite/C39P4thinF_original_IMG_20150622_105335_cell_4.png  \n",
      " extracting: Dataset/Train/Parasite/C39P4thinF_original_IMG_20150622_105335_cell_5.png  \n",
      " extracting: Dataset/Train/Parasite/C39P4thinF_original_IMG_20150622_105335_cell_6.png  \n",
      " extracting: Dataset/Train/Parasite/C39P4thinF_original_IMG_20150622_105335_cell_7.png  \n",
      " extracting: Dataset/Train/Parasite/C39P4thinF_original_IMG_20150622_105335_cell_8.png  \n",
      " extracting: Dataset/Train/Parasite/C39P4thinF_original_IMG_20150622_105335_cell_9.png  \n",
      " extracting: Dataset/Train/Parasite/C39P4thinF_original_IMG_20150622_105554_cell_1.png  \n",
      " extracting: Dataset/Train/Parasite/C39P4thinF_original_IMG_20150622_105554_cell_2.png  \n",
      " extracting: Dataset/Train/Parasite/C39P4thinF_original_IMG_20150622_105554_cell_3.png  \n",
      " extracting: Dataset/Train/Parasite/C39P4thinF_original_IMG_20150622_105554_cell_4.png  \n",
      "   creating: Dataset/Train/Uninfected/\n",
      " extracting: Dataset/Train/Uninfected/C1_thinF_IMG_20150604_104722_cell_115.png  \n",
      " extracting: Dataset/Train/Uninfected/C1_thinF_IMG_20150604_104722_cell_123.png  \n",
      " extracting: Dataset/Train/Uninfected/C1_thinF_IMG_20150604_104722_cell_143.png  \n",
      " extracting: Dataset/Train/Uninfected/C1_thinF_IMG_20150604_104722_cell_15.png  \n",
      " extracting: Dataset/Train/Uninfected/C1_thinF_IMG_20150604_104722_cell_164.png  \n",
      " extracting: Dataset/Train/Uninfected/C1_thinF_IMG_20150604_104722_cell_191.png  \n",
      " extracting: Dataset/Train/Uninfected/C1_thinF_IMG_20150604_104722_cell_211.png  \n",
      " extracting: Dataset/Train/Uninfected/C1_thinF_IMG_20150604_104722_cell_216.png  \n",
      " extracting: Dataset/Train/Uninfected/C1_thinF_IMG_20150604_104722_cell_231.png  \n",
      " extracting: Dataset/Train/Uninfected/C1_thinF_IMG_20150604_104722_cell_242.png  \n",
      " extracting: Dataset/Train/Uninfected/C1_thinF_IMG_20150604_104722_cell_248.png  \n",
      " extracting: Dataset/Train/Uninfected/C1_thinF_IMG_20150604_104722_cell_60.png  \n",
      " extracting: Dataset/Train/Uninfected/C1_thinF_IMG_20150604_104722_cell_66.png  \n",
      " extracting: Dataset/Train/Uninfected/C1_thinF_IMG_20150604_104722_cell_73.png  \n",
      " extracting: Dataset/Train/Uninfected/C1_thinF_IMG_20150604_104722_cell_79.png  \n",
      " extracting: Dataset/Train/Uninfected/C1_thinF_IMG_20150604_104722_cell_81.png  \n",
      " extracting: Dataset/Train/Uninfected/C1_thinF_IMG_20150604_104722_cell_9.png  \n",
      " extracting: Dataset/Train/Uninfected/C1_thinF_IMG_20150604_104919_cell_123.png  \n",
      " extracting: Dataset/Train/Uninfected/C1_thinF_IMG_20150604_104919_cell_132.png  \n",
      " extracting: Dataset/Train/Uninfected/C1_thinF_IMG_20150604_104919_cell_134.png  \n",
      " extracting: Dataset/Train/Uninfected/C1_thinF_IMG_20150604_104919_cell_157.png  \n",
      " extracting: Dataset/Train/Uninfected/C1_thinF_IMG_20150604_104919_cell_163.png  \n",
      " extracting: Dataset/Train/Uninfected/C1_thinF_IMG_20150604_104919_cell_164.png  \n",
      " extracting: Dataset/Train/Uninfected/C1_thinF_IMG_20150604_104919_cell_173.png  \n",
      " extracting: Dataset/Train/Uninfected/C1_thinF_IMG_20150604_104919_cell_178.png  \n",
      " extracting: Dataset/Train/Uninfected/C1_thinF_IMG_20150604_104919_cell_183.png  \n",
      " extracting: Dataset/Train/Uninfected/C1_thinF_IMG_20150604_104919_cell_189.png  \n",
      " extracting: Dataset/Train/Uninfected/C1_thinF_IMG_20150604_104919_cell_199.png  \n",
      " extracting: Dataset/Train/Uninfected/C1_thinF_IMG_20150604_104919_cell_224.png  \n",
      " extracting: Dataset/Train/Uninfected/C1_thinF_IMG_20150604_104919_cell_240.png  \n",
      " extracting: Dataset/Train/Uninfected/C1_thinF_IMG_20150604_104919_cell_31.png  \n",
      " extracting: Dataset/Train/Uninfected/C1_thinF_IMG_20150604_104919_cell_82.png  \n",
      " extracting: Dataset/Train/Uninfected/C1_thinF_IMG_20150604_104919_cell_84.png  \n",
      " extracting: Dataset/Train/Uninfected/C1_thinF_IMG_20150604_104919_cell_86.png  \n",
      " extracting: Dataset/Train/Uninfected/C1_thinF_IMG_20150604_104919_cell_96.png  \n",
      " extracting: Dataset/Train/Uninfected/C1_thinF_IMG_20150604_104942_cell_102.png  \n",
      " extracting: Dataset/Train/Uninfected/C1_thinF_IMG_20150604_104942_cell_11.png  \n",
      " extracting: Dataset/Train/Uninfected/C1_thinF_IMG_20150604_104942_cell_139.png  \n",
      " extracting: Dataset/Train/Uninfected/C1_thinF_IMG_20150604_104942_cell_151.png  \n",
      " extracting: Dataset/Train/Uninfected/C1_thinF_IMG_20150604_104942_cell_152.png  \n",
      " extracting: Dataset/Train/Uninfected/C1_thinF_IMG_20150604_104942_cell_154.png  \n",
      " extracting: Dataset/Train/Uninfected/C1_thinF_IMG_20150604_104942_cell_156.png  \n",
      " extracting: Dataset/Train/Uninfected/C1_thinF_IMG_20150604_104942_cell_168.png  \n",
      " extracting: Dataset/Train/Uninfected/C1_thinF_IMG_20150604_104942_cell_185.png  \n",
      " extracting: Dataset/Train/Uninfected/C1_thinF_IMG_20150604_104942_cell_20.png  \n",
      " extracting: Dataset/Train/Uninfected/C1_thinF_IMG_20150604_104942_cell_203.png  \n",
      " extracting: Dataset/Train/Uninfected/C1_thinF_IMG_20150604_104942_cell_209.png  \n",
      " extracting: Dataset/Train/Uninfected/C1_thinF_IMG_20150604_104942_cell_218.png  \n",
      " extracting: Dataset/Train/Uninfected/C1_thinF_IMG_20150604_104942_cell_269.png  \n",
      " extracting: Dataset/Train/Uninfected/C1_thinF_IMG_20150604_104942_cell_4.png  \n",
      " extracting: Dataset/Train/Uninfected/C1_thinF_IMG_20150604_104942_cell_59.png  \n",
      " extracting: Dataset/Train/Uninfected/C1_thinF_IMG_20150604_104942_cell_72.png  \n",
      " extracting: Dataset/Train/Uninfected/C1_thinF_IMG_20150604_104942_cell_98.png  \n",
      " extracting: Dataset/Train/Uninfected/C1_thinF_IMG_20150604_105100_cell_130.png  \n",
      " extracting: Dataset/Train/Uninfected/C1_thinF_IMG_20150604_105100_cell_134.png  \n",
      " extracting: Dataset/Train/Uninfected/C1_thinF_IMG_20150604_105100_cell_151.png  \n",
      " extracting: Dataset/Train/Uninfected/C1_thinF_IMG_20150604_105100_cell_152.png  \n",
      " extracting: Dataset/Train/Uninfected/C1_thinF_IMG_20150604_105100_cell_157.png  \n",
      " extracting: Dataset/Train/Uninfected/C1_thinF_IMG_20150604_105100_cell_180.png  \n",
      " extracting: Dataset/Train/Uninfected/C1_thinF_IMG_20150604_105100_cell_186.png  \n",
      " extracting: Dataset/Train/Uninfected/C1_thinF_IMG_20150604_105100_cell_201.png  \n",
      "  inflating: Dataset/Train/Uninfected/C1_thinF_IMG_20150604_105100_cell_211.png  \n",
      " extracting: Dataset/Train/Uninfected/C1_thinF_IMG_20150604_105100_cell_213.png  \n",
      " extracting: Dataset/Train/Uninfected/C1_thinF_IMG_20150604_105100_cell_232.png  \n",
      " extracting: Dataset/Train/Uninfected/C1_thinF_IMG_20150604_105100_cell_243.png  \n",
      " extracting: Dataset/Train/Uninfected/C1_thinF_IMG_20150604_105100_cell_275.png  \n",
      " extracting: Dataset/Train/Uninfected/C1_thinF_IMG_20150604_105100_cell_277.png  \n",
      " extracting: Dataset/Train/Uninfected/C1_thinF_IMG_20150604_105100_cell_43.png  \n",
      " extracting: Dataset/Train/Uninfected/C1_thinF_IMG_20150604_105100_cell_53.png  \n",
      " extracting: Dataset/Train/Uninfected/C1_thinF_IMG_20150604_105100_cell_69.png  \n",
      " extracting: Dataset/Train/Uninfected/C241NThinF_IMG_20151207_124240_cell_169.png  \n",
      " extracting: Dataset/Train/Uninfected/C241NThinF_IMG_20151207_124358_cell_119.png  \n",
      "  inflating: Dataset/Train/Uninfected/C241NThinF_IMG_20151207_124358_cell_130.png  \n",
      "  inflating: Dataset/Train/Uninfected/C241NThinF_IMG_20151207_124358_cell_137.png  \n",
      "  inflating: Dataset/Train/Uninfected/C241NThinF_IMG_20151207_124358_cell_144.png  \n",
      " extracting: Dataset/Train/Uninfected/C241NThinF_IMG_20151207_124358_cell_149.png  \n",
      " extracting: Dataset/Train/Uninfected/C241NThinF_IMG_20151207_124358_cell_35.png  \n",
      " extracting: Dataset/Train/Uninfected/C241NThinF_IMG_20151207_124358_cell_73.png  \n",
      " extracting: Dataset/Train/Uninfected/C241NThinF_IMG_20151207_124358_cell_82.png  \n",
      " extracting: Dataset/Train/Uninfected/C241NThinF_IMG_20151207_124358_cell_84.png  \n",
      " extracting: Dataset/Train/Uninfected/C241NThinF_IMG_20151207_124358_cell_91.png  \n",
      " extracting: Dataset/Train/Uninfected/C241NThinF_IMG_20151207_124608_cell_104.png  \n",
      " extracting: Dataset/Train/Uninfected/C241NThinF_IMG_20151207_124608_cell_120.png  \n",
      " extracting: Dataset/Train/Uninfected/C241NThinF_IMG_20151207_124608_cell_125.png  \n",
      " extracting: Dataset/Train/Uninfected/C241NThinF_IMG_20151207_124608_cell_171.png  \n",
      " extracting: Dataset/Train/Uninfected/C241NThinF_IMG_20151207_124608_cell_22.png  \n",
      "  inflating: Dataset/Train/Uninfected/C241NThinF_IMG_20151207_124608_cell_30.png  \n",
      " extracting: Dataset/Train/Uninfected/C241NThinF_IMG_20151207_124608_cell_40.png  \n",
      " extracting: Dataset/Train/Uninfected/C241NThinF_IMG_20151207_124608_cell_51.png  \n",
      " extracting: Dataset/Train/Uninfected/C241NThinF_IMG_20151207_124608_cell_61.png  \n",
      "  inflating: Dataset/Train/Uninfected/C241NThinF_IMG_20151207_124608_cell_90.png  \n",
      " extracting: Dataset/Train/Uninfected/C241NThinF_IMG_20151207_124643_cell_125.png  \n",
      " extracting: Dataset/Train/Uninfected/C241NThinF_IMG_20151207_124643_cell_136.png  \n",
      " extracting: Dataset/Train/Uninfected/C241NThinF_IMG_20151207_124643_cell_158.png  \n",
      " extracting: Dataset/Train/Uninfected/C241NThinF_IMG_20151207_124643_cell_169.png  \n",
      " extracting: Dataset/Train/Uninfected/C241NThinF_IMG_20151207_124643_cell_25.png  \n",
      " extracting: Dataset/Train/Uninfected/C241NThinF_IMG_20151207_124643_cell_26.png  \n",
      " extracting: Dataset/Train/Uninfected/C241NThinF_IMG_20151207_124643_cell_45.png  \n",
      "  inflating: Dataset/Train/Uninfected/C241NThinF_IMG_20151207_124643_cell_46.png  \n",
      " extracting: Dataset/Train/Uninfected/C241NThinF_IMG_20151207_124643_cell_91.png  \n",
      " extracting: Dataset/Train/Uninfected/C241NThinF_IMG_20151207_124643_cell_96.png  \n",
      " extracting: Dataset/Train/Uninfected/C2NThinF_IMG_20150604_114631_cell_141.png  \n",
      " extracting: Dataset/Train/Uninfected/C2NThinF_IMG_20150604_114631_cell_144.png  \n",
      " extracting: Dataset/Train/Uninfected/C2NThinF_IMG_20150604_114631_cell_150.png  \n",
      " extracting: Dataset/Train/Uninfected/C2NThinF_IMG_20150604_114631_cell_155.png  \n",
      " extracting: Dataset/Train/Uninfected/C2NThinF_IMG_20150604_114631_cell_187.png  \n",
      " extracting: Dataset/Train/Uninfected/C2NThinF_IMG_20150604_114631_cell_204.png  \n",
      " extracting: Dataset/Train/Uninfected/C2NThinF_IMG_20150604_114631_cell_214.png  \n",
      " extracting: Dataset/Train/Uninfected/C2NThinF_IMG_20150604_114631_cell_215.png  \n",
      " extracting: Dataset/Train/Uninfected/C2NThinF_IMG_20150604_114631_cell_38.png  \n",
      " extracting: Dataset/Train/Uninfected/C2NThinF_IMG_20150604_114631_cell_52.png  \n",
      " extracting: Dataset/Train/Uninfected/C2NThinF_IMG_20150604_114631_cell_72.png  \n",
      " extracting: Dataset/Train/Uninfected/C2NThinF_IMG_20150604_114631_cell_74.png  \n",
      " extracting: Dataset/Train/Uninfected/C2NThinF_IMG_20150604_114631_cell_84.png  \n",
      " extracting: Dataset/Train/Uninfected/C2NThinF_IMG_20150604_114631_cell_99.png  \n",
      " extracting: Dataset/Train/Uninfected/C2NThinF_IMG_20150604_114730_cell_113.png  \n",
      " extracting: Dataset/Train/Uninfected/C2NThinF_IMG_20150604_114730_cell_12.png  \n",
      " extracting: Dataset/Train/Uninfected/C2NThinF_IMG_20150604_114730_cell_124.png  \n",
      " extracting: Dataset/Train/Uninfected/C2NThinF_IMG_20150604_114730_cell_13.png  \n",
      " extracting: Dataset/Train/Uninfected/C2NThinF_IMG_20150604_114730_cell_139.png  \n",
      " extracting: Dataset/Train/Uninfected/C2NThinF_IMG_20150604_114730_cell_161.png  \n",
      " extracting: Dataset/Train/Uninfected/C2NThinF_IMG_20150604_114730_cell_172.png  \n",
      " extracting: Dataset/Train/Uninfected/C2NThinF_IMG_20150604_114730_cell_173.png  \n",
      " extracting: Dataset/Train/Uninfected/C2NThinF_IMG_20150604_114730_cell_178.png  \n",
      " extracting: Dataset/Train/Uninfected/C2NThinF_IMG_20150604_114730_cell_183.png  \n",
      " extracting: Dataset/Train/Uninfected/C2NThinF_IMG_20150604_114730_cell_36.png  \n",
      " extracting: Dataset/Train/Uninfected/C2NThinF_IMG_20150604_114730_cell_72.png  \n",
      " extracting: Dataset/Train/Uninfected/C2NThinF_IMG_20150604_114730_cell_98.png  \n",
      " extracting: Dataset/Train/Uninfected/C2NThinF_IMG_20150604_114751_cell_101.png  \n",
      " extracting: Dataset/Train/Uninfected/C2NThinF_IMG_20150604_114751_cell_106.png  \n",
      " extracting: Dataset/Train/Uninfected/C2NThinF_IMG_20150604_114751_cell_107.png  \n",
      " extracting: Dataset/Train/Uninfected/C2NThinF_IMG_20150604_114751_cell_113.png  \n",
      " extracting: Dataset/Train/Uninfected/C2NThinF_IMG_20150604_114751_cell_127.png  \n",
      " extracting: Dataset/Train/Uninfected/C2NThinF_IMG_20150604_114751_cell_142.png  \n",
      " extracting: Dataset/Train/Uninfected/C2NThinF_IMG_20150604_114751_cell_181.png  \n",
      " extracting: Dataset/Train/Uninfected/C2NThinF_IMG_20150604_114751_cell_197.png  \n",
      " extracting: Dataset/Train/Uninfected/C2NThinF_IMG_20150604_114751_cell_217.png  \n",
      " extracting: Dataset/Train/Uninfected/C2NThinF_IMG_20150604_114751_cell_221.png  \n",
      " extracting: Dataset/Train/Uninfected/C2NThinF_IMG_20150604_114751_cell_38.png  \n",
      " extracting: Dataset/Train/Uninfected/C2NThinF_IMG_20150604_114751_cell_69.png  \n",
      " extracting: Dataset/Train/Uninfected/C2NThinF_IMG_20150604_114751_cell_92.png  \n",
      " extracting: Dataset/Train/Uninfected/C2NThinF_IMG_20150604_114751_cell_93.png  \n",
      " extracting: Dataset/Train/Uninfected/C2NThinF_IMG_20150604_114815_cell_107.png  \n",
      " extracting: Dataset/Train/Uninfected/C2NThinF_IMG_20150604_114815_cell_128.png  \n",
      " extracting: Dataset/Train/Uninfected/C2NThinF_IMG_20150604_114815_cell_142.png  \n",
      " extracting: Dataset/Train/Uninfected/C2NThinF_IMG_20150604_114815_cell_217.png  \n",
      " extracting: Dataset/Train/Uninfected/C2NThinF_IMG_20150604_114815_cell_232.png  \n",
      " extracting: Dataset/Train/Uninfected/C2NThinF_IMG_20150604_114815_cell_233.png  \n",
      " extracting: Dataset/Train/Uninfected/C2NThinF_IMG_20150604_114815_cell_235.png  \n",
      " extracting: Dataset/Train/Uninfected/C2NThinF_IMG_20150604_114815_cell_242.png  \n",
      " extracting: Dataset/Train/Uninfected/C2NThinF_IMG_20150604_114815_cell_6.png  \n",
      " extracting: Dataset/Train/Uninfected/C2NThinF_IMG_20150604_114815_cell_62.png  \n",
      " extracting: Dataset/Train/Uninfected/C2NThinF_IMG_20150604_114815_cell_66.png  \n",
      " extracting: Dataset/Train/Uninfected/C2NThinF_IMG_20150604_114815_cell_73.png  \n",
      " extracting: Dataset/Train/Uninfected/C2NThinF_IMG_20150604_114815_cell_9.png  \n",
      " extracting: Dataset/Train/Uninfected/C2NThinF_IMG_20150604_114815_cell_95.png  \n",
      " extracting: Dataset/Train/Uninfected/C2NThinF_IMG_20150604_115238_cell_115.png  \n",
      " extracting: Dataset/Train/Uninfected/C2NThinF_IMG_20150604_115238_cell_117.png  \n",
      " extracting: Dataset/Train/Uninfected/C2NThinF_IMG_20150604_115238_cell_126.png  \n",
      " extracting: Dataset/Train/Uninfected/C2NThinF_IMG_20150604_115238_cell_13.png  \n",
      " extracting: Dataset/Train/Uninfected/C2NThinF_IMG_20150604_115238_cell_133.png  \n",
      " extracting: Dataset/Train/Uninfected/C2NThinF_IMG_20150604_115238_cell_138.png  \n",
      " extracting: Dataset/Train/Uninfected/C2NThinF_IMG_20150604_115238_cell_196.png  \n",
      " extracting: Dataset/Train/Uninfected/C3thin_original_IMG_20150608_163002_cell_159.png  \n",
      " extracting: Dataset/Train/Uninfected/C3thin_original_IMG_20150608_163002_cell_195.png  \n",
      " extracting: Dataset/Train/Uninfected/C3thin_original_IMG_20150608_163029_cell_1.png  \n",
      " extracting: Dataset/Train/Uninfected/C3thin_original_IMG_20150608_163029_cell_109.png  \n",
      " extracting: Dataset/Train/Uninfected/C3thin_original_IMG_20150608_163029_cell_121.png  \n",
      " extracting: Dataset/Train/Uninfected/C3thin_original_IMG_20150608_163029_cell_125.png  \n",
      " extracting: Dataset/Train/Uninfected/C3thin_original_IMG_20150608_163029_cell_156.png  \n",
      " extracting: Dataset/Train/Uninfected/C3thin_original_IMG_20150608_163029_cell_166.png  \n",
      " extracting: Dataset/Train/Uninfected/C3thin_original_IMG_20150608_163029_cell_186.png  \n",
      " extracting: Dataset/Train/Uninfected/C3thin_original_IMG_20150608_163029_cell_202.png  \n",
      " extracting: Dataset/Train/Uninfected/C3thin_original_IMG_20150608_163029_cell_220.png  \n",
      " extracting: Dataset/Train/Uninfected/C3thin_original_IMG_20150608_163029_cell_44.png  \n",
      " extracting: Dataset/Train/Uninfected/C3thin_original_IMG_20150608_163029_cell_52.png  \n",
      " extracting: Dataset/Train/Uninfected/C3thin_original_IMG_20150608_163029_cell_57.png  \n",
      " extracting: Dataset/Train/Uninfected/C3thin_original_IMG_20150608_163029_cell_80.png  \n",
      " extracting: Dataset/Train/Uninfected/C3thin_original_IMG_20150608_163029_cell_83.png  \n",
      " extracting: Dataset/Train/Uninfected/C3thin_original_IMG_20150608_163047_cell_103.png  \n",
      " extracting: Dataset/Train/Uninfected/C3thin_original_IMG_20150608_163047_cell_145.png  \n",
      " extracting: Dataset/Train/Uninfected/C3thin_original_IMG_20150608_163047_cell_147.png  \n",
      " extracting: Dataset/Train/Uninfected/C3thin_original_IMG_20150608_163047_cell_161.png  \n",
      " extracting: Dataset/Train/Uninfected/C3thin_original_IMG_20150608_163047_cell_168.png  \n",
      " extracting: Dataset/Train/Uninfected/C3thin_original_IMG_20150608_163047_cell_183.png  \n",
      " extracting: Dataset/Train/Uninfected/C3thin_original_IMG_20150608_163047_cell_192.png  \n",
      " extracting: Dataset/Train/Uninfected/C3thin_original_IMG_20150608_163047_cell_212.png  \n",
      " extracting: Dataset/Train/Uninfected/C3thin_original_IMG_20150608_163047_cell_214.png  \n",
      " extracting: Dataset/Train/Uninfected/C3thin_original_IMG_20150608_163047_cell_215.png  \n",
      " extracting: Dataset/Train/Uninfected/C3thin_original_IMG_20150608_163047_cell_22.png  \n",
      " extracting: Dataset/Train/Uninfected/C3thin_original_IMG_20150608_163047_cell_236.png  \n",
      " extracting: Dataset/Train/Uninfected/C3thin_original_IMG_20150608_163047_cell_26.png  \n",
      " extracting: Dataset/Train/Uninfected/C3thin_original_IMG_20150608_163047_cell_36.png  \n",
      " extracting: Dataset/Train/Uninfected/C4thin_original_IMG_20150608_165540_cell_19.png  \n",
      " extracting: Dataset/Train/Uninfected/C4thin_original_IMG_20150608_165540_cell_50.png  \n",
      " extracting: Dataset/Train/Uninfected/C4thin_original_IMG_20150608_165540_cell_52.png  \n"
     ]
    }
   ],
   "source": [
    "!unzip /content/Dataset.zip"
   ]
  },
  {
   "cell_type": "code",
   "execution_count": 1,
   "metadata": {
    "id": "60NVhf3OLQTA"
   },
   "outputs": [],
   "source": [
    "# import the libraries as shown below\n",
    "\n",
    "from tensorflow.keras.layers import Input, Lambda, Dense, Flatten,Conv2D\n",
    "from tensorflow.keras.models import Model\n",
    "from tensorflow.keras.applications.vgg19 import VGG19\n",
    "from tensorflow.keras.applications.resnet50 import preprocess_input\n",
    "from tensorflow.keras.preprocessing import image\n",
    "from tensorflow.keras.preprocessing.image import ImageDataGenerator,load_img\n",
    "from tensorflow.keras.models import Sequential\n",
    "import numpy as np\n",
    "from glob import glob\n",
    "import matplotlib.pyplot as plt"
   ]
  },
  {
   "cell_type": "code",
   "execution_count": 2,
   "metadata": {
    "colab": {
     "base_uri": "https://localhost:8080/",
     "height": 35
    },
    "id": "8beC4iayMelc",
    "outputId": "4d4daeb5-290b-41dd-febb-14a988558c3f"
   },
   "outputs": [
    {
     "data": {
      "text/plain": [
       "'2.3.0'"
      ]
     },
     "execution_count": 2,
     "metadata": {},
     "output_type": "execute_result"
    }
   ],
   "source": [
    "import tensorflow as tf\n",
    "tf.__version__"
   ]
  },
  {
   "cell_type": "code",
   "execution_count": 3,
   "metadata": {
    "id": "SZIhHhkXMlLP"
   },
   "outputs": [],
   "source": [
    "# re-size all the images to this\n",
    "IMAGE_SIZE = [224, 224]\n",
    "\n",
    "train_path = 'Dataset/Train'\n",
    "valid_path = 'Dataset/Test'\n"
   ]
  },
  {
   "cell_type": "markdown",
   "metadata": {
    "id": "bJTTc5tON20v"
   },
   "source": [
    "Here we have given image size as [224,224] so that we can increase the size of our pixels of each image which would help our model in detecting each parasite in our image accurately."
   ]
  },
  {
   "cell_type": "code",
   "execution_count": 4,
   "metadata": {
    "id": "nbSWRRgGNjDS"
   },
   "outputs": [],
   "source": [
    "# Import the Vgg 16 library as shown below and add preprocessing layer to the front of VGG\n",
    "# Here we will be using imagenet weights\n",
    "\n",
    "vgg19 = VGG19(input_shape=IMAGE_SIZE + [3], weights='imagenet', include_top=False)\n",
    "\n",
    "\n"
   ]
  },
  {
   "cell_type": "markdown",
   "metadata": {
    "id": "9cH1vvGVOk3H"
   },
   "source": [
    "Here we are giving the input shape as image size+[3] this is for the RGB channel of 3 since we have 3 channels in RGB so we are making the shape as [224,224,3] <br>\n",
    "Here we are also giving include top=False this means we are neglecting the first and last layers as the first layer would tell us what the inputs that we are providing and the last layer would tell us that how many classes we are taking as output."
   ]
  },
  {
   "cell_type": "code",
   "execution_count": 5,
   "metadata": {
    "colab": {
     "base_uri": "https://localhost:8080/"
    },
    "id": "t-a-TTPMPEXJ",
    "outputId": "4ebcd4cc-68a9-4b29-9c7d-f67e8fbda585"
   },
   "outputs": [
    {
     "name": "stdout",
     "output_type": "stream",
     "text": [
      "Model: \"vgg19\"\n",
      "_________________________________________________________________\n",
      "Layer (type)                 Output Shape              Param #   \n",
      "=================================================================\n",
      "input_1 (InputLayer)         [(None, 224, 224, 3)]     0         \n",
      "_________________________________________________________________\n",
      "block1_conv1 (Conv2D)        (None, 224, 224, 64)      1792      \n",
      "_________________________________________________________________\n",
      "block1_conv2 (Conv2D)        (None, 224, 224, 64)      36928     \n",
      "_________________________________________________________________\n",
      "block1_pool (MaxPooling2D)   (None, 112, 112, 64)      0         \n",
      "_________________________________________________________________\n",
      "block2_conv1 (Conv2D)        (None, 112, 112, 128)     73856     \n",
      "_________________________________________________________________\n",
      "block2_conv2 (Conv2D)        (None, 112, 112, 128)     147584    \n",
      "_________________________________________________________________\n",
      "block2_pool (MaxPooling2D)   (None, 56, 56, 128)       0         \n",
      "_________________________________________________________________\n",
      "block3_conv1 (Conv2D)        (None, 56, 56, 256)       295168    \n",
      "_________________________________________________________________\n",
      "block3_conv2 (Conv2D)        (None, 56, 56, 256)       590080    \n",
      "_________________________________________________________________\n",
      "block3_conv3 (Conv2D)        (None, 56, 56, 256)       590080    \n",
      "_________________________________________________________________\n",
      "block3_conv4 (Conv2D)        (None, 56, 56, 256)       590080    \n",
      "_________________________________________________________________\n",
      "block3_pool (MaxPooling2D)   (None, 28, 28, 256)       0         \n",
      "_________________________________________________________________\n",
      "block4_conv1 (Conv2D)        (None, 28, 28, 512)       1180160   \n",
      "_________________________________________________________________\n",
      "block4_conv2 (Conv2D)        (None, 28, 28, 512)       2359808   \n",
      "_________________________________________________________________\n",
      "block4_conv3 (Conv2D)        (None, 28, 28, 512)       2359808   \n",
      "_________________________________________________________________\n",
      "block4_conv4 (Conv2D)        (None, 28, 28, 512)       2359808   \n",
      "_________________________________________________________________\n",
      "block4_pool (MaxPooling2D)   (None, 14, 14, 512)       0         \n",
      "_________________________________________________________________\n",
      "block5_conv1 (Conv2D)        (None, 14, 14, 512)       2359808   \n",
      "_________________________________________________________________\n",
      "block5_conv2 (Conv2D)        (None, 14, 14, 512)       2359808   \n",
      "_________________________________________________________________\n",
      "block5_conv3 (Conv2D)        (None, 14, 14, 512)       2359808   \n",
      "_________________________________________________________________\n",
      "block5_conv4 (Conv2D)        (None, 14, 14, 512)       2359808   \n",
      "_________________________________________________________________\n",
      "block5_pool (MaxPooling2D)   (None, 7, 7, 512)         0         \n",
      "=================================================================\n",
      "Total params: 20,024,384\n",
      "Trainable params: 20,024,384\n",
      "Non-trainable params: 0\n",
      "_________________________________________________________________\n"
     ]
    }
   ],
   "source": [
    "vgg19.summary()"
   ]
  },
  {
   "cell_type": "code",
   "execution_count": 6,
   "metadata": {
    "id": "oadTt6-uTCHz"
   },
   "outputs": [],
   "source": [
    "# don't train existing weights\n",
    "for layer in vgg19.layers:\n",
    "    layer.trainable = False"
   ]
  },
  {
   "cell_type": "markdown",
   "metadata": {
    "id": "WDtTJNNsTxnQ"
   },
   "source": [
    "Here we are trying to use Transfer Learning so we are not training each and every layer we are just trying to use our prebuilt vgg19 model here just by changing the last layer."
   ]
  },
  {
   "cell_type": "code",
   "execution_count": 7,
   "metadata": {
    "colab": {
     "base_uri": "https://localhost:8080/"
    },
    "id": "507wi2D5TwsL",
    "outputId": "d1ac854e-2698-45b9-eb91-84ef47487298"
   },
   "outputs": [
    {
     "data": {
      "text/plain": [
       "['Dataset/Train\\\\Parasite', 'Dataset/Train\\\\Uninfected']"
      ]
     },
     "execution_count": 7,
     "metadata": {},
     "output_type": "execute_result"
    }
   ],
   "source": [
    "# useful for getting number of output classes\n",
    "# glob: https://www.geeksforgeeks.org/how-to-use-glob-function-to-find-files-recursively-in-python/\n",
    "folders = glob('Dataset/Train/*')\n",
    "folders"
   ]
  },
  {
   "cell_type": "markdown",
   "metadata": {
    "id": "1z9PMkjGVEzl"
   },
   "source": [
    "<b>Here we are using glob as it will recursively see what are the classes here there are two folders that is parasite and Uninfected"
   ]
  },
  {
   "cell_type": "markdown",
   "metadata": {
    "id": "AtHDGqCFWA-t"
   },
   "source": [
    "Now we will try to flatten the output that we received from our vgg19 model and then use our 2 class prediction from the length of folders on this flattened layer and then create a model with the inputs as that of our vgg19 and the output be our prediction that we have vuilt as our dense layer."
   ]
  },
  {
   "cell_type": "code",
   "execution_count": 8,
   "metadata": {
    "colab": {
     "base_uri": "https://localhost:8080/"
    },
    "id": "_wqMlSzZVAiH",
    "outputId": "67ebaaf6-5f79-4797-8079-5ab13fd38a39"
   },
   "outputs": [
    {
     "name": "stdout",
     "output_type": "stream",
     "text": [
      "Model: \"functional_1\"\n",
      "_________________________________________________________________\n",
      "Layer (type)                 Output Shape              Param #   \n",
      "=================================================================\n",
      "input_1 (InputLayer)         [(None, 224, 224, 3)]     0         \n",
      "_________________________________________________________________\n",
      "block1_conv1 (Conv2D)        (None, 224, 224, 64)      1792      \n",
      "_________________________________________________________________\n",
      "block1_conv2 (Conv2D)        (None, 224, 224, 64)      36928     \n",
      "_________________________________________________________________\n",
      "block1_pool (MaxPooling2D)   (None, 112, 112, 64)      0         \n",
      "_________________________________________________________________\n",
      "block2_conv1 (Conv2D)        (None, 112, 112, 128)     73856     \n",
      "_________________________________________________________________\n",
      "block2_conv2 (Conv2D)        (None, 112, 112, 128)     147584    \n",
      "_________________________________________________________________\n",
      "block2_pool (MaxPooling2D)   (None, 56, 56, 128)       0         \n",
      "_________________________________________________________________\n",
      "block3_conv1 (Conv2D)        (None, 56, 56, 256)       295168    \n",
      "_________________________________________________________________\n",
      "block3_conv2 (Conv2D)        (None, 56, 56, 256)       590080    \n",
      "_________________________________________________________________\n",
      "block3_conv3 (Conv2D)        (None, 56, 56, 256)       590080    \n",
      "_________________________________________________________________\n",
      "block3_conv4 (Conv2D)        (None, 56, 56, 256)       590080    \n",
      "_________________________________________________________________\n",
      "block3_pool (MaxPooling2D)   (None, 28, 28, 256)       0         \n",
      "_________________________________________________________________\n",
      "block4_conv1 (Conv2D)        (None, 28, 28, 512)       1180160   \n",
      "_________________________________________________________________\n",
      "block4_conv2 (Conv2D)        (None, 28, 28, 512)       2359808   \n",
      "_________________________________________________________________\n",
      "block4_conv3 (Conv2D)        (None, 28, 28, 512)       2359808   \n",
      "_________________________________________________________________\n",
      "block4_conv4 (Conv2D)        (None, 28, 28, 512)       2359808   \n",
      "_________________________________________________________________\n",
      "block4_pool (MaxPooling2D)   (None, 14, 14, 512)       0         \n",
      "_________________________________________________________________\n",
      "block5_conv1 (Conv2D)        (None, 14, 14, 512)       2359808   \n",
      "_________________________________________________________________\n",
      "block5_conv2 (Conv2D)        (None, 14, 14, 512)       2359808   \n",
      "_________________________________________________________________\n",
      "block5_conv3 (Conv2D)        (None, 14, 14, 512)       2359808   \n",
      "_________________________________________________________________\n",
      "block5_conv4 (Conv2D)        (None, 14, 14, 512)       2359808   \n",
      "_________________________________________________________________\n",
      "block5_pool (MaxPooling2D)   (None, 7, 7, 512)         0         \n",
      "_________________________________________________________________\n",
      "flatten (Flatten)            (None, 25088)             0         \n",
      "_________________________________________________________________\n",
      "dense (Dense)                (None, 2)                 50178     \n",
      "=================================================================\n",
      "Total params: 20,074,562\n",
      "Trainable params: 50,178\n",
      "Non-trainable params: 20,024,384\n",
      "_________________________________________________________________\n"
     ]
    }
   ],
   "source": [
    "# our layers - you can add more if you want\n",
    "x = Flatten()(vgg19.output)\n",
    "\n",
    "prediction = Dense(len(folders), activation='softmax')(x)\n",
    "\n",
    "# create a model object\n",
    "model = Model(inputs=vgg19.input, outputs=prediction)\n",
    "\n",
    "# view the structure of the model\n",
    "model.summary()"
   ]
  },
  {
   "cell_type": "markdown",
   "metadata": {
    "id": "Wc62DkgzWxcC"
   },
   "source": [
    "<b> So now we got a 2 class classification.Here I have used softmax other than sigmoid. We could also try to use sigmoid but sigmoid will be better option for binary classification but here as though I have taken two nodes so I am using softmax."
   ]
  },
  {
   "cell_type": "code",
   "execution_count": 9,
   "metadata": {
    "id": "4FY73uHnWkdf"
   },
   "outputs": [],
   "source": [
    "# We can also implement our model from scratch but here we will try to use only our pretrained model that we have above.\n",
    "# Below I have written code for a whole model from scratch but this type of task is too expensive when we have a large dataset.\n",
    "\n",
    "# from tensorflow.keras.layers import MaxPooling2D\n",
    "# ### Create Model from scratch using CNN\n",
    "# model=Sequential()\n",
    "# model.add(Conv2D(filters=16,kernel_size=2,padding=\"same\",activation=\"relu\",input_shape=(224,224,3)))\n",
    "# model.add(MaxPooling2D(pool_size=2))\n",
    "# model.add(Conv2D(filters=32,kernel_size=2,padding=\"same\",activation =\"relu\"))\n",
    "# model.add(MaxPooling2D(pool_size=2))\n",
    "# model.add(Conv2D(filters=64,kernel_size=2,padding=\"same\",activation=\"relu\"))\n",
    "# model.add(MaxPooling2D(pool_size=2))\n",
    "# model.add(Flatten())\n",
    "# model.add(Dense(500,activation=\"relu\"))\n",
    "# model.add(Dense(2,activation=\"softmax\"))\n",
    "# model.summary()"
   ]
  },
  {
   "cell_type": "code",
   "execution_count": 10,
   "metadata": {
    "id": "y1r0Q0gJezpV"
   },
   "outputs": [],
   "source": [
    "# tell the model what cost and optimization method to use\n",
    "model.compile(\n",
    "  loss='categorical_crossentropy',\n",
    "  optimizer='adam',\n",
    "  metrics=['accuracy']\n",
    ")"
   ]
  },
  {
   "cell_type": "markdown",
   "metadata": {
    "id": "JGTJd1H5fsDK"
   },
   "source": [
    "Here we are using categorical_crossentropy as our loss function as we have two nodes but if we had only one node in output we may have used the binary_crossentropy."
   ]
  },
  {
   "cell_type": "markdown",
   "metadata": {
    "id": "XLXz_-OlgkJ5"
   },
   "source": [
    "<b>Now we will try to get the images and try to process them by scaling and making them invariant to all the variances like shear, shift, flipping etc.<br>\n",
    "So simply here we are applying Image Data Augmentation.<br>\n",
    "Here we are applying Augmentation only to train data so that we can also get a larger dataset but we wil not apply augmentation on test data. On test data we will only try to rescale images between 0 to 1 only."
   ]
  },
  {
   "cell_type": "code",
   "execution_count": 11,
   "metadata": {
    "id": "pDSUu454frIm"
   },
   "outputs": [],
   "source": [
    "# Use the Image Data Generator to import the images from the dataset\n",
    "from tensorflow.keras.preprocessing.image import ImageDataGenerator\n",
    "\n",
    "train_datagen = ImageDataGenerator(rescale = 1./255,\n",
    "                                   shear_range = 0.2,\n",
    "                                   zoom_range = 0.2,\n",
    "                                   horizontal_flip = True)\n",
    "\n",
    "test_datagen = ImageDataGenerator(rescale = 1./255)"
   ]
  },
  {
   "cell_type": "code",
   "execution_count": 12,
   "metadata": {
    "colab": {
     "base_uri": "https://localhost:8080/"
    },
    "id": "H9-ePWoAg2ZE",
    "outputId": "0a3e23f9-91b5-4390-c372-900ddc46a773"
   },
   "outputs": [
    {
     "name": "stdout",
     "output_type": "stream",
     "text": [
      "Found 416 images belonging to 2 classes.\n"
     ]
    }
   ],
   "source": [
    "# Make sure you provide the same target size as initialied for the image size\n",
    "training_set = train_datagen.flow_from_directory('Dataset/Train',\n",
    "                                                 target_size = (224, 224),\n",
    "                                                 batch_size = 32,\n",
    "                                                 class_mode = 'categorical')"
   ]
  },
  {
   "cell_type": "code",
   "execution_count": 13,
   "metadata": {
    "colab": {
     "base_uri": "https://localhost:8080/"
    },
    "id": "I9wqz-7Yj152",
    "outputId": "8d716a0e-fe97-45bf-bd97-52a1f60d5822"
   },
   "outputs": [
    {
     "name": "stdout",
     "output_type": "stream",
     "text": [
      "Found 134 images belonging to 2 classes.\n"
     ]
    }
   ],
   "source": [
    "test_set = test_datagen.flow_from_directory('Dataset/Test',\n",
    "                                            target_size = (224, 224),\n",
    "                                            batch_size = 32,\n",
    "                                            class_mode = 'categorical')"
   ]
  },
  {
   "cell_type": "code",
   "execution_count": null,
   "metadata": {},
   "outputs": [],
   "source": []
  },
  {
   "cell_type": "code",
   "execution_count": 14,
   "metadata": {
    "colab": {
     "base_uri": "https://localhost:8080/"
    },
    "id": "6lYY5RmXj7PL",
    "outputId": "74dc46b8-314f-4769-98af-660696f6a01c"
   },
   "outputs": [
    {
     "name": "stdout",
     "output_type": "stream",
     "text": [
      "Epoch 1/15\n",
      "13/13 [==============================] - 17s 1s/step - loss: 1.0399 - accuracy: 0.5481 - val_loss: 0.5527 - val_accuracy: 0.6866\n",
      "Epoch 2/15\n",
      "13/13 [==============================] - 13s 1s/step - loss: 0.8762 - accuracy: 0.6298 - val_loss: 1.3762 - val_accuracy: 0.4328\n",
      "Epoch 3/15\n",
      "13/13 [==============================] - 13s 1s/step - loss: 0.5404 - accuracy: 0.7428 - val_loss: 0.4583 - val_accuracy: 0.6791\n",
      "Epoch 4/15\n",
      "13/13 [==============================] - 13s 1s/step - loss: 0.4568 - accuracy: 0.7740 - val_loss: 0.6114 - val_accuracy: 0.7090\n",
      "Epoch 5/15\n",
      "13/13 [==============================] - 13s 1s/step - loss: 0.3945 - accuracy: 0.8221 - val_loss: 0.4655 - val_accuracy: 0.7090\n",
      "Epoch 6/15\n",
      "13/13 [==============================] - 13s 1s/step - loss: 0.3455 - accuracy: 0.8438 - val_loss: 0.4586 - val_accuracy: 0.7985\n",
      "Epoch 7/15\n",
      "13/13 [==============================] - 13s 1s/step - loss: 0.3200 - accuracy: 0.8486 - val_loss: 0.3482 - val_accuracy: 0.8209\n",
      "Epoch 8/15\n",
      "13/13 [==============================] - 14s 1s/step - loss: 0.2612 - accuracy: 0.8918 - val_loss: 0.4768 - val_accuracy: 0.7612\n",
      "Epoch 9/15\n",
      "13/13 [==============================] - 14s 1s/step - loss: 0.2777 - accuracy: 0.8798 - val_loss: 0.3191 - val_accuracy: 0.8507\n",
      "Epoch 10/15\n",
      "13/13 [==============================] - 13s 1s/step - loss: 0.2262 - accuracy: 0.9207 - val_loss: 0.4433 - val_accuracy: 0.7612\n",
      "Epoch 11/15\n",
      "13/13 [==============================] - 13s 1s/step - loss: 0.2165 - accuracy: 0.9303 - val_loss: 0.2990 - val_accuracy: 0.9030\n",
      "Epoch 12/15\n",
      "13/13 [==============================] - 13s 1s/step - loss: 0.2101 - accuracy: 0.9351 - val_loss: 0.2867 - val_accuracy: 0.9179\n",
      "Epoch 13/15\n",
      "13/13 [==============================] - 12s 943ms/step - loss: 0.1976 - accuracy: 0.9303 - val_loss: 0.2934 - val_accuracy: 0.8955\n",
      "Epoch 14/15\n",
      "13/13 [==============================] - 12s 934ms/step - loss: 0.1949 - accuracy: 0.9447 - val_loss: 0.2799 - val_accuracy: 0.9254\n",
      "Epoch 15/15\n",
      "13/13 [==============================] - 13s 973ms/step - loss: 0.1911 - accuracy: 0.9279 - val_loss: 0.3406 - val_accuracy: 0.8507\n"
     ]
    }
   ],
   "source": [
    "# fit the model\n",
    "# Run the cell. It will take some time to execute\n",
    "r = model.fit(\n",
    "  training_set,\n",
    "  validation_data=test_set,\n",
    "  epochs=15,\n",
    "  steps_per_epoch=len(training_set),\n",
    "  validation_steps=len(test_set)\n",
    ")"
   ]
  },
  {
   "cell_type": "markdown",
   "metadata": {
    "id": "FuDjhPHPmqyK"
   },
   "source": [
    "<b>Plotting the Loss"
   ]
  },
  {
   "cell_type": "code",
   "execution_count": 16,
   "metadata": {
    "colab": {
     "base_uri": "https://localhost:8080/",
     "height": 530
    },
    "id": "vh_kRiMfkl88",
    "outputId": "ff29a51e-16d1-4cf9-e9b9-f9bfcd12e43f"
   },
   "outputs": [
    {
     "data": {
      "image/png": "[encoded data removed]",
      "text/plain": [
       "<Figure size 432x288 with 1 Axes>"
      ]
     },
     "metadata": {
      "needs_background": "light"
     },
     "output_type": "display_data"
    },
    {
     "data": {
      "image/png": "[encoded data removed]",
      "text/plain": [
       "<Figure size 432x288 with 1 Axes>"
      ]
     },
     "metadata": {
      "needs_background": "light"
     },
     "output_type": "display_data"
    },
    {
     "data": {
      "text/plain": [
       "<Figure size 432x288 with 0 Axes>"
      ]
     },
     "metadata": {},
     "output_type": "display_data"
    }
   ],
   "source": [
    "# plot the loss\n",
    "plt.plot(r.history['loss'], label='train loss')\n",
    "plt.plot(r.history['val_loss'], label='val loss')\n",
    "plt.legend()\n",
    "plt.show()\n",
    "plt.savefig('LossVal_loss')\n",
    "\n",
    "# plot the accuracy\n",
    "plt.plot(r.history['accuracy'], label='train acc')\n",
    "plt.plot(r.history['val_accuracy'], label='val acc')\n",
    "plt.legend()\n",
    "plt.show()\n",
    "plt.savefig('AccVal_acc')"
   ]
  },
  {
   "cell_type": "markdown",
   "metadata": {
    "id": "0SDXkZO4o4pA"
   },
   "source": [
    "<b>Saving my model"
   ]
  },
  {
   "cell_type": "code",
   "execution_count": 17,
   "metadata": {
    "id": "r4VsWFlKmuni"
   },
   "outputs": [],
   "source": [
    "# save it as a h5 file\n",
    "\n",
    "\n",
    "from tensorflow.keras.models import load_model\n",
    "\n",
    "model.save('model_vgg19.h5')"
   ]
  },
  {
   "cell_type": "markdown",
   "metadata": {
    "id": "iemgcHWGpJ_n"
   },
   "source": [
    "<b>As we have 2 nodes we will get two values when we try to predict on test data so here we will find the max index of both values."
   ]
  },
  {
   "cell_type": "code",
   "execution_count": 18,
   "metadata": {
    "colab": {
     "base_uri": "https://localhost:8080/"
    },
    "id": "_sd-noFLo7t7",
    "outputId": "7cdcb707-3ed1-4d54-bfaa-74b924726eb9"
   },
   "outputs": [
    {
     "data": {
      "text/plain": [
       "array([[6.23070061e-01, 3.76929909e-01],\n",
       "       [8.75273645e-02, 9.12472606e-01],\n",
       "       [1.07844546e-01, 8.92155468e-01],\n",
       "       [7.02968001e-01, 2.97031969e-01],\n",
       "       [1.47303924e-01, 8.52696061e-01],\n",
       "       [7.85717547e-01, 2.14282468e-01],\n",
       "       [3.08895916e-01, 6.91104054e-01],\n",
       "       [3.49185228e-01, 6.50814772e-01],\n",
       "       [9.95586395e-01, 4.41356283e-03],\n",
       "       [8.06108356e-01, 1.93891630e-01],\n",
       "       [6.01940267e-02, 9.39805925e-01],\n",
       "       [1.69377327e-02, 9.83062267e-01],\n",
       "       [9.99970794e-01, 2.92596487e-05],\n",
       "       [7.16876239e-02, 9.28312421e-01],\n",
       "       [9.88537908e-01, 1.14620514e-02],\n",
       "       [8.98583233e-02, 9.10141647e-01],\n",
       "       [9.91042614e-01, 8.95734970e-03],\n",
       "       [6.28864765e-02, 9.37113523e-01],\n",
       "       [9.63154197e-01, 3.68457548e-02],\n",
       "       [2.22123876e-01, 7.77876079e-01],\n",
       "       [6.50806129e-01, 3.49193871e-01],\n",
       "       [9.32521999e-01, 6.74779713e-02],\n",
       "       [1.85817614e-01, 8.14182460e-01],\n",
       "       [8.87359083e-01, 1.12640992e-01],\n",
       "       [3.16232108e-02, 9.68376875e-01],\n",
       "       [7.73079813e-01, 2.26920202e-01],\n",
       "       [1.16108872e-01, 8.83891165e-01],\n",
       "       [1.14588834e-01, 8.85411203e-01],\n",
       "       [9.99923825e-01, 7.61696356e-05],\n",
       "       [5.12804270e-01, 4.87195671e-01],\n",
       "       [9.82047439e-01, 1.79525856e-02],\n",
       "       [7.66267478e-02, 9.23373282e-01],\n",
       "       [4.21872377e-01, 5.78127682e-01],\n",
       "       [8.30352753e-02, 9.16964710e-01],\n",
       "       [9.97955918e-01, 2.04408728e-03],\n",
       "       [2.10440785e-01, 7.89559245e-01],\n",
       "       [2.82419682e-01, 7.17580259e-01],\n",
       "       [3.97675008e-01, 6.02325022e-01],\n",
       "       [8.95532131e-01, 1.04467839e-01],\n",
       "       [3.23192239e-01, 6.76807761e-01],\n",
       "       [9.81362820e-01, 1.86371617e-02],\n",
       "       [3.72462332e-01, 6.27537608e-01],\n",
       "       [9.59638417e-01, 4.03616540e-02],\n",
       "       [9.03060675e-01, 9.69393998e-02],\n",
       "       [1.18764386e-01, 8.81235659e-01],\n",
       "       [9.55685079e-01, 4.43148836e-02],\n",
       "       [1.01865545e-01, 8.98134410e-01],\n",
       "       [9.85852480e-01, 1.41475042e-02],\n",
       "       [9.47176278e-01, 5.28237559e-02],\n",
       "       [1.11520901e-01, 8.88479054e-01],\n",
       "       [2.08407491e-01, 7.91592538e-01],\n",
       "       [9.85995591e-01, 1.40043432e-02],\n",
       "       [7.78580427e-01, 2.21419558e-01],\n",
       "       [4.80616152e-01, 5.19383907e-01],\n",
       "       [7.59568036e-01, 2.40431920e-01],\n",
       "       [8.50189567e-01, 1.49810478e-01],\n",
       "       [4.11143042e-02, 9.58885670e-01],\n",
       "       [9.78969574e-01, 2.10304800e-02],\n",
       "       [4.32074159e-01, 5.67925811e-01],\n",
       "       [9.85009849e-01, 1.49901779e-02],\n",
       "       [9.40449178e-01, 5.95508143e-02],\n",
       "       [9.50853586e-01, 4.91464511e-02],\n",
       "       [7.59391636e-02, 9.24060881e-01],\n",
       "       [9.97327805e-01, 2.67221942e-03],\n",
       "       [9.93445039e-01, 6.55502686e-03],\n",
       "       [4.03245449e-01, 5.96754491e-01],\n",
       "       [9.67473090e-02, 9.03252661e-01],\n",
       "       [4.49758738e-01, 5.50241232e-01],\n",
       "       [9.98489261e-01, 1.51072850e-03],\n",
       "       [2.14082345e-01, 7.85917640e-01],\n",
       "       [9.97979820e-01, 2.02022120e-03],\n",
       "       [9.54118192e-01, 4.58817817e-02],\n",
       "       [2.66369134e-01, 7.33630836e-01],\n",
       "       [3.66768479e-01, 6.33231521e-01],\n",
       "       [2.02871144e-01, 7.97128856e-01],\n",
       "       [4.72413421e-01, 5.27586520e-01],\n",
       "       [6.96522370e-02, 9.30347741e-01],\n",
       "       [4.00500633e-02, 9.59949970e-01],\n",
       "       [3.93397272e-01, 6.06602669e-01],\n",
       "       [1.44564107e-01, 8.55435908e-01],\n",
       "       [9.99825299e-01, 1.74746834e-04],\n",
       "       [1.36687830e-01, 8.63312244e-01],\n",
       "       [2.11992577e-01, 7.88007379e-01],\n",
       "       [9.97764707e-01, 2.23534275e-03],\n",
       "       [7.73756430e-02, 9.22624409e-01],\n",
       "       [9.29268062e-01, 7.07318708e-02],\n",
       "       [4.02047008e-01, 5.97952962e-01],\n",
       "       [2.24871829e-01, 7.75128186e-01],\n",
       "       [1.16151772e-01, 8.83848250e-01],\n",
       "       [2.87414342e-02, 9.71258581e-01],\n",
       "       [6.89274251e-01, 3.10725778e-01],\n",
       "       [8.82608891e-02, 9.11739111e-01],\n",
       "       [4.62800503e-01, 5.37199438e-01],\n",
       "       [9.47100997e-01, 5.28989919e-02],\n",
       "       [1.57956466e-01, 8.42043579e-01],\n",
       "       [3.86103727e-02, 9.61389601e-01],\n",
       "       [9.71141636e-01, 2.88583413e-02],\n",
       "       [6.40680939e-02, 9.35931921e-01],\n",
       "       [4.83226255e-02, 9.51677382e-01],\n",
       "       [9.99318600e-01, 6.81415899e-04],\n",
       "       [9.93921638e-01, 6.07835455e-03],\n",
       "       [1.20848514e-01, 8.79151404e-01],\n",
       "       [4.19121265e-01, 5.80878735e-01],\n",
       "       [6.73677444e-01, 3.26322585e-01],\n",
       "       [9.84956443e-01, 1.50436051e-02],\n",
       "       [7.34912515e-01, 2.65087515e-01],\n",
       "       [1.24395221e-01, 8.75604749e-01],\n",
       "       [4.47414786e-01, 5.52585244e-01],\n",
       "       [5.97563863e-01, 4.02436137e-01],\n",
       "       [8.83324921e-01, 1.16675138e-01],\n",
       "       [1.34418890e-01, 8.65581095e-01],\n",
       "       [9.79515076e-01, 2.04849094e-02],\n",
       "       [4.30118054e-01, 5.69881976e-01],\n",
       "       [8.15620005e-01, 1.84380010e-01],\n",
       "       [9.02502164e-02, 9.09749806e-01],\n",
       "       [9.69651863e-02, 9.03034806e-01],\n",
       "       [6.38502017e-02, 9.36149776e-01],\n",
       "       [6.78416491e-01, 3.21583480e-01],\n",
       "       [1.86455309e-01, 8.13544691e-01],\n",
       "       [5.72073199e-02, 9.42792654e-01],\n",
       "       [3.01347554e-01, 6.98652446e-01],\n",
       "       [9.85111654e-01, 1.48883937e-02],\n",
       "       [8.01846147e-01, 1.98153913e-01],\n",
       "       [9.68452632e-01, 3.15474048e-02],\n",
       "       [8.45229551e-02, 9.15477097e-01],\n",
       "       [6.22634828e-01, 3.77365142e-01],\n",
       "       [8.63308072e-01, 1.36691988e-01],\n",
       "       [9.97499287e-01, 2.50072847e-03],\n",
       "       [1.82775095e-01, 8.17224920e-01],\n",
       "       [1.91434816e-01, 8.08565140e-01],\n",
       "       [4.96062189e-01, 5.03937840e-01],\n",
       "       [7.01448917e-02, 9.29855108e-01],\n",
       "       [9.05229509e-01, 9.47704837e-02],\n",
       "       [9.85629618e-01, 1.43703902e-02]], dtype=float32)"
      ]
     },
     "execution_count": 18,
     "metadata": {},
     "output_type": "execute_result"
    }
   ],
   "source": [
    "y_pred = model.predict(test_set)\n",
    "y_pred"
   ]
  },
  {
   "cell_type": "code",
   "execution_count": 19,
   "metadata": {
    "colab": {
     "base_uri": "https://localhost:8080/"
    },
    "id": "gaX_Sz1do7xF",
    "outputId": "c6add76c-7ae0-405c-e59f-47b9af5c5e1e"
   },
   "outputs": [
    {
     "data": {
      "text/plain": [
       "array([0, 1, 1, 0, 1, 0, 1, 1, 0, 0, 1, 1, 0, 1, 0, 1, 0, 1, 0, 1, 0, 0,\n",
       "       1, 0, 1, 0, 1, 1, 0, 0, 0, 1, 1, 1, 0, 1, 1, 1, 0, 1, 0, 1, 0, 0,\n",
       "       1, 0, 1, 0, 0, 1, 1, 0, 0, 1, 0, 0, 1, 0, 1, 0, 0, 0, 1, 0, 0, 1,\n",
       "       1, 1, 0, 1, 0, 0, 1, 1, 1, 1, 1, 1, 1, 1, 0, 1, 1, 0, 1, 0, 1, 1,\n",
       "       1, 1, 0, 1, 1, 0, 1, 1, 0, 1, 1, 0, 0, 1, 1, 0, 0, 0, 1, 1, 0, 0,\n",
       "       1, 0, 1, 0, 1, 1, 1, 0, 1, 1, 1, 0, 0, 0, 1, 0, 0, 0, 1, 1, 1, 1,\n",
       "       0, 0], dtype=int64)"
      ]
     },
     "execution_count": 19,
     "metadata": {},
     "output_type": "execute_result"
    }
   ],
   "source": [
    "import numpy as np\n",
    "y_pred = np.argmax(y_pred, axis=1)\n",
    "y_pred"
   ]
  },
  {
   "cell_type": "code",
   "execution_count": null,
   "metadata": {
    "id": "rpHld5ropsfA"
   },
   "outputs": [],
   "source": []
  },
  {
   "cell_type": "code",
   "execution_count": 20,
   "metadata": {
    "colab": {
     "base_uri": "https://localhost:8080/"
    },
    "id": "jpueC77_p441",
    "outputId": "ba6419f3-3cef-415e-d929-b2fbc956d81e"
   },
   "outputs": [
    {
     "data": {
      "text/plain": [
       "array([[[0., 0., 0.],\n",
       "        [0., 0., 0.],\n",
       "        [0., 0., 0.],\n",
       "        ...,\n",
       "        [0., 0., 0.],\n",
       "        [0., 0., 0.],\n",
       "        [0., 0., 0.]],\n",
       "\n",
       "       [[0., 0., 0.],\n",
       "        [0., 0., 0.],\n",
       "        [0., 0., 0.],\n",
       "        ...,\n",
       "        [0., 0., 0.],\n",
       "        [0., 0., 0.],\n",
       "        [0., 0., 0.]],\n",
       "\n",
       "       [[0., 0., 0.],\n",
       "        [0., 0., 0.],\n",
       "        [0., 0., 0.],\n",
       "        ...,\n",
       "        [0., 0., 0.],\n",
       "        [0., 0., 0.],\n",
       "        [0., 0., 0.]],\n",
       "\n",
       "       ...,\n",
       "\n",
       "       [[0., 0., 0.],\n",
       "        [0., 0., 0.],\n",
       "        [0., 0., 0.],\n",
       "        ...,\n",
       "        [0., 0., 0.],\n",
       "        [0., 0., 0.],\n",
       "        [0., 0., 0.]],\n",
       "\n",
       "       [[0., 0., 0.],\n",
       "        [0., 0., 0.],\n",
       "        [0., 0., 0.],\n",
       "        ...,\n",
       "        [0., 0., 0.],\n",
       "        [0., 0., 0.],\n",
       "        [0., 0., 0.]],\n",
       "\n",
       "       [[0., 0., 0.],\n",
       "        [0., 0., 0.],\n",
       "        [0., 0., 0.],\n",
       "        ...,\n",
       "        [0., 0., 0.],\n",
       "        [0., 0., 0.],\n",
       "        [0., 0., 0.]]], dtype=float32)"
      ]
     },
     "execution_count": 20,
     "metadata": {},
     "output_type": "execute_result"
    }
   ],
   "source": [
    "from tensorflow.keras.models import load_model\n",
    "from tensorflow.keras.preprocessing import image\n",
    "model=load_model('model_vgg19.h5')\n",
    "img=image.load_img('Dataset/Test/Uninfected/2.png',target_size=(224,224))\n",
    "\n",
    "x=image.img_to_array(img)\n",
    "x"
   ]
  },
  {
   "cell_type": "code",
   "execution_count": 21,
   "metadata": {
    "colab": {
     "base_uri": "https://localhost:8080/"
    },
    "id": "tsBnKBnsp48K",
    "outputId": "7abe54aa-506d-47e5-e0dd-e0cf5a79333d"
   },
   "outputs": [
    {
     "data": {
      "text/plain": [
       "(224, 224, 3)"
      ]
     },
     "execution_count": 21,
     "metadata": {},
     "output_type": "execute_result"
    }
   ],
   "source": [
    "x.shape"
   ]
  },
  {
   "cell_type": "code",
   "execution_count": 22,
   "metadata": {
    "id": "KqnmDwu-qFq7"
   },
   "outputs": [],
   "source": [
    "x=x/255"
   ]
  },
  {
   "cell_type": "code",
   "execution_count": 23,
   "metadata": {
    "colab": {
     "base_uri": "https://localhost:8080/"
    },
    "id": "UqquETdaqHpx",
    "outputId": "ad31ec5e-1071-4fa5-8733-639f3b516e74"
   },
   "outputs": [
    {
     "data": {
      "text/plain": [
       "(1, 224, 224, 3)"
      ]
     },
     "execution_count": 23,
     "metadata": {},
     "output_type": "execute_result"
    }
   ],
   "source": [
    "x=np.expand_dims(x,axis=0)\n",
    "img_data=preprocess_input(x)\n",
    "img_data.shape"
   ]
  },
  {
   "cell_type": "code",
   "execution_count": 24,
   "metadata": {
    "colab": {
     "base_uri": "https://localhost:8080/"
    },
    "id": "qxGOpVVCqKoE",
    "outputId": "dc1702f3-6f29-4632-ebce-b700481516e1"
   },
   "outputs": [
    {
     "data": {
      "text/plain": [
       "array([[0.05504018, 0.9449599 ]], dtype=float32)"
      ]
     },
     "execution_count": 24,
     "metadata": {},
     "output_type": "execute_result"
    }
   ],
   "source": [
    "model.predict(img_data)"
   ]
  },
  {
   "cell_type": "code",
   "execution_count": 25,
   "metadata": {
    "id": "ZeqkTfazqMlG"
   },
   "outputs": [],
   "source": [
    "a=np.argmax(model.predict(img_data), axis=1)"
   ]
  },
  {
   "cell_type": "code",
   "execution_count": 26,
   "metadata": {
    "colab": {
     "base_uri": "https://localhost:8080/"
    },
    "id": "nUU_nPEzqOqG",
    "outputId": "2524c298-403f-40fd-dc37-9444732f06b4"
   },
   "outputs": [
    {
     "name": "stdout",
     "output_type": "stream",
     "text": [
      "Uninfected\n"
     ]
    }
   ],
   "source": [
    "if(a==1):\n",
    "    print(\"Uninfected\")\n",
    "else:\n",
    "    print(\"Infected\")"
   ]
  },
  {
   "cell_type": "code",
   "execution_count": null,
   "metadata": {
    "id": "8VYdUu48qQo3"
   },
   "outputs": [],
   "source": []
  }
 ],
 "metadata": {
  "accelerator": "GPU",
  "colab": {
   "collapsed_sections": [],
   "name": "Untitled9.ipynb",
   "provenance": []
  },
  "kernelspec": {
   "display_name": "Python 3",
   "language": "python",
   "name": "python3"
  },
  "language_info": {
   "codemirror_mode": {
    "name": "ipython",
    "version": 3
   },
   "file_extension": ".py",
   "mimetype": "text/x-python",
   "name": "python",
   "nbconvert_exporter": "python",
   "pygments_lexer": "ipython3",
   "version": "3.7.4"
  }
 },
 "nbformat": 4,
 "nbformat_minor": 1
}
